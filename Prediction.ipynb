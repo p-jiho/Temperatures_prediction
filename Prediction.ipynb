{
 "cells": [
  {
   "cell_type": "code",
   "execution_count": 193,
   "id": "456ddd4f-465b-4c33-8aae-c7fcc991bb26",
   "metadata": {
    "tags": []
   },
   "outputs": [],
   "source": [
    "import pandas as pd\n",
    "import numpy as np\n",
    "from datetime import datetime"
   ]
  },
  {
   "cell_type": "code",
   "execution_count": 194,
   "id": "a0c1543b-05b8-47a9-8288-7402a3f8cb75",
   "metadata": {
    "tags": []
   },
   "outputs": [],
   "source": [
    "train = pd.read_csv(\"data/train.csv\")"
   ]
  },
  {
   "cell_type": "code",
   "execution_count": 195,
   "id": "0568c835-afc2-42e7-ac4d-99fd8d153eb6",
   "metadata": {
    "tags": []
   },
   "outputs": [],
   "source": [
    "# 이상치 판단\n",
    "def outlier(data, column):\n",
    "    q25 = np.quantile(data[column].dropna(), 0.25)\n",
    "    q75 = np.quantile(data[column].dropna(), 0.75)\n",
    "    iqr = q75 - q25\n",
    "    iqr_cut = iqr * 3\n",
    "    result = data[(data[column] > q75 + iqr_cut) | (data[column] < q25 - iqr_cut)].index\n",
    "    return result\n",
    "\n",
    "# 보간\n",
    "def time_interpolate(data, column):\n",
    "    tem = data[[\"일시\", column]].copy()\n",
    "    tem.index = pd.to_datetime(tem['일시'])\n",
    "    tem = tem.drop([\"일시\"], axis = 1)\n",
    "    tem = tem.interpolate(method=\"time\")\n",
    "    return tem[column].values\n",
    "\n",
    "# 강수량은 기상청에서 정한 강수표현에 따라 구간을 나누는 것으로 수치 변경\n",
    "# 비가 내리지 않음 : 0, 매우 약한 비 : 0~1, 약한 비 : 1~3, 보통 비 : 3~15, 강한 비 : 15~30, 매우 강한 비 : 30 이상\n",
    "train.강수량 = pd.cut(train.강수량, bins = [0, 0.9, 2.9, 14.9, 29.9, max(train.강수량)], labels = [1, 2, 3, 4, 5])\n",
    "train.강수량 = train.강수량.astype('float')\n",
    "train.강수량 = train.강수량.fillna(0)\n",
    "\n",
    "train.최고기온 = time_interpolate(train, \"최고기온\")\n",
    "train.최저기온 = time_interpolate(train, \"최저기온\")\n",
    "\n",
    "train.일교차 = train.최고기온 - train.최저기온\n",
    "\n",
    "train.평균풍속 = time_interpolate(train, \"평균풍속\")\n",
    "\n",
    "train.일조합 = time_interpolate(train, \"일조합\")\n",
    "\n",
    "train.loc[0:4749, \"일사합\"] = 0\n",
    "train.loc[4780:4854, \"일사합\"] = 0\n",
    "train.일사합 = time_interpolate(train, \"일사합\")\n",
    "\n",
    "\n",
    "# 삭제\n",
    "train = train.iloc[train.일조율.dropna().index]\n",
    "\n",
    "# 가조합\n",
    "train[\"가조합\"] = train.일조합/(train.일조율/100)\n",
    "train.가조합 = [np.nan if i == float(\"inf\") else i for i in train.가조합]\n",
    "train.가조합 = time_interpolate(train, \"가조합\")\n",
    "\n",
    "# 일사합/일조합\n",
    "train[\"일사_일조\"] = train.일사합/train.일조합\n",
    "train.일사_일조 = [np.nan if i == float(\"inf\") else i for i in train.일사_일조] # 분모가 0인 경우 임의로 값을 설정할 수 없어 보간으로 처리\n",
    "train.일사_일조 = time_interpolate(train, \"일사_일조\")\n",
    "\n",
    "# sin + cos\n",
    "train[\"sin_cos\"] = [-np.sin(2 * np.pi * int(datetime.strptime(i,\"%Y-%m-%d\").strftime(\"%j\"))/365) - np.cos(2 * np.pi * int(datetime.strptime(i,\"%Y-%m-%d\").strftime(\"%j\"))/365) for i in train.일시]\n",
    "\n",
    "train[\"월\"] = train.일시.str.split(\"-\", expand = True)[1].astype(\"int\")\n",
    "\n",
    "# 사계절: 0 겨울, 1 봄, 2 여름, 3 가을\n",
    "train[\"계절\"] = pd.cut(train.월, bins = [0, 2, 5, 8, 11, 12], labels = [\"겨울\", \"봄\", \"여름\", \"가을\", \"겨울2\"])\n",
    "train.계절 = [\"겨울\" if i == \"겨울2\" else i for i in train.계절]\n",
    "train = pd.concat([train, pd.get_dummies(train.계절).astype(\"int\")], axis=1)\n",
    "train = train.drop([\"계절\"], axis = 1)\n",
    "\n",
    "train = train.drop([\"일시\", \"월\"], axis = 1)"
   ]
  },
  {
   "cell_type": "code",
   "execution_count": 196,
   "id": "2060faaa-dfe0-4852-83c0-4e42667c28e0",
   "metadata": {
    "tags": []
   },
   "outputs": [
    {
     "name": "stdout",
     "output_type": "stream",
     "text": [
      "<class 'pandas.core.frame.DataFrame'>\n",
      "Index: 22645 entries, 366 to 23010\n",
      "Data columns (total 17 columns):\n",
      " #   Column   Non-Null Count  Dtype  \n",
      "---  ------   --------------  -----  \n",
      " 0   최고기온     22645 non-null  float64\n",
      " 1   최저기온     22645 non-null  float64\n",
      " 2   일교차      22645 non-null  float64\n",
      " 3   강수량      22645 non-null  float64\n",
      " 4   평균습도     22645 non-null  float64\n",
      " 5   평균풍속     22645 non-null  float64\n",
      " 6   일조합      22645 non-null  float64\n",
      " 7   일사합      22645 non-null  float64\n",
      " 8   일조율      22645 non-null  float64\n",
      " 9   평균기온     22645 non-null  float64\n",
      " 10  가조합      22645 non-null  float64\n",
      " 11  일사_일조    22645 non-null  float64\n",
      " 12  sin_cos  22645 non-null  float64\n",
      " 13  가을       22645 non-null  int32  \n",
      " 14  겨울       22645 non-null  int32  \n",
      " 15  봄        22645 non-null  int32  \n",
      " 16  여름       22645 non-null  int32  \n",
      "dtypes: float64(13), int32(4)\n",
      "memory usage: 2.8 MB\n"
     ]
    }
   ],
   "source": [
    "# 결측치 없음\n",
    "train.info()"
   ]
  },
  {
   "cell_type": "code",
   "execution_count": 197,
   "id": "dc761e74",
   "metadata": {
    "tags": []
   },
   "outputs": [],
   "source": [
    "from sklearn.model_selection import train_test_split\n",
    "from sklearn.preprocessing import MinMaxScaler\n",
    "import tensorflow as tf\n",
    "from hyperopt import Trials, STATUS_OK, tpe, fmin, hp\n",
    "import time"
   ]
  },
  {
   "cell_type": "code",
   "execution_count": 198,
   "id": "0aa7b456-a3bd-4463-93c2-d138d8e0d727",
   "metadata": {
    "tags": []
   },
   "outputs": [],
   "source": [
    "class Model():\n",
    "    def __init__(self, data, target, input_size, output_size, test_size):\n",
    "        self.data = data\n",
    "        self.target = target        \n",
    "        \n",
    "        self.input_size = input_size\n",
    "        self.output_size = output_size\n",
    "        self.test_size = test_size\n",
    "        \n",
    "        self.col_len = len(self.data.columns)\n",
    "        "
   ]
  },
  {
   "cell_type": "code",
   "execution_count": 199,
   "id": "d3be5626",
   "metadata": {
    "tags": []
   },
   "outputs": [],
   "source": [
    "def Scale(self, data):\n",
    "    scaler_in = MinMaxScaler()\n",
    "    scaler_out = MinMaxScaler()\n",
    "    \n",
    "    inputs = data.drop(self.target, axis = 1)\n",
    "    inputs_col = inputs.columns\n",
    "    outputs = data[self.target]\n",
    "    \n",
    "    scaler_in.fit(inputs)\n",
    "    inputs = pd.DataFrame(scaler_in.transform(inputs), columns = inputs_col)\n",
    "        \n",
    "    scaler_out.fit(outputs)\n",
    "    outputs = pd.DataFrame(scaler_out.fit_transform(outputs), columns = self.target)\n",
    "\n",
    "    data = pd.concat([inputs, outputs], axis = 1)\n",
    "    \n",
    "    return data,  scaler_out\n",
    "Model.Scale = Scale"
   ]
  },
  {
   "cell_type": "code",
   "execution_count": 200,
   "id": "255df493-0982-4aa2-b0ac-641217c9b6b4",
   "metadata": {
    "tags": []
   },
   "outputs": [],
   "source": [
    "def Split(self, data):\n",
    "    data, _ = self.Scale(data)\n",
    "    data = tf.keras.utils.timeseries_dataset_from_array(data = data,\n",
    "                                                             targets = None,\n",
    "                                                             sequence_length = self.input_size + self.output_size)\n",
    "    inputs = np.concatenate([x[:, slice(0, self.input_size), :] for x in data], axis=0)\n",
    "    outputs = np.concatenate([x[:, slice(self.input_size, self.input_size + self.output_size), :] for x in data], axis=0)\n",
    "\n",
    "    outputs = outputs[:,:,self.col_len-1]\n",
    "    outputs = outputs.reshape(-1, self.output_size, 1)\n",
    "    \n",
    "    train_in = inputs[:int(len(inputs)*0.8), :, :]\n",
    "    train_out = outputs[:int(len(outputs)*0.8), :, :]\n",
    "    \n",
    "    test_in = inputs[int(len(inputs)*0.8):, :, :]\n",
    "    test_out = outputs[int(len(outputs)*0.8):, :, :]\n",
    "    \n",
    "    return train_in, train_out, test_in, test_out\n",
    "Model.Split = Split"
   ]
  },
  {
   "cell_type": "code",
   "execution_count": 201,
   "id": "c274b2b7-72a7-4fca-8b4e-4862164e7931",
   "metadata": {
    "tags": []
   },
   "outputs": [],
   "source": [
    "@property\n",
    "def Data(self):\n",
    "    return self.Split(self.data)\n",
    "Model.Data = Data"
   ]
  },
  {
   "cell_type": "code",
   "execution_count": 202,
   "id": "4339ac33-8d78-43df-b938-5159c2eadf51",
   "metadata": {
    "tags": []
   },
   "outputs": [],
   "source": [
    "output_size = 358\n",
    "space = {\n",
    "    'input_size' : hp.choice(\"input_size\", [output_size, output_size*2, output_size*3]),\n",
    "    'lstm1_nodes' : hp.choice(\"lstm1_nodes\", [32, 64, 128, 256]),\n",
    "    #'lstm1_dropout' : hp.choice(\"lstm1_dropout\", [0, 0.3, 0.5]),\n",
    "    'lstm2_nodes' : hp.choice('lstm2_nodes', [32, 64, 128, 256]),\n",
    "    #'lstm2_dropout' : hp.choice(\"lstm2_dropout\", [0, 0.3, 0.5]),\n",
    "    'num_layers' : hp.choice('num_layers',[\n",
    "       # { \n",
    "       #     'layers' : 'two',\n",
    "       # },\n",
    "        {\n",
    "            'layers' : 'three',\n",
    "            'lstm3_nodes' : hp.choice('lstm3_nodes', [32, 64, 128, 256]),\n",
    "     #       'lstm3_dropout' : hp.choice(\"lstm3_dropout\", [0, 0.3, 0.5])\n",
    "        }\n",
    "    ]),\n",
    "    'lr' : hp.choice('lr', [0, 0.001, 0.002, 0.003])\n",
    "}"
   ]
  },
  {
   "cell_type": "code",
   "execution_count": 203,
   "id": "3a46e225-38ea-4424-87ce-a57f22dda435",
   "metadata": {
    "tags": []
   },
   "outputs": [],
   "source": [
    "Parameter_loss = pd.DataFrame([], columns = [\"Parameters\", \"Loss\"])\n",
    "def hyperopt_model(params):\n",
    "    global Parameter_loss\n",
    "    print(\"--------------------------------------------------------------------------------------------------------------\")\n",
    "    print(\"---------------------------------------[ START {}]-------------------------------------------------------------\".format(len(Parameter_loss)))\n",
    "    print(\"Parameter : {}\".format(params))\n",
    "    input_size = params['input_size']\n",
    "    \n",
    "    output_size = 358\n",
    "    model = Model(data = train,\n",
    "         target = [\"평균기온\"],\n",
    "         input_size = params['input_size'],\n",
    "         output_size = output_size,\n",
    "         test_size = 0.3)\n",
    "    \n",
    "    train_in, train_out, test_in, test_out = model.Data\n",
    "    early_stopping = tf.keras.callbacks.EarlyStopping(monitor = 'val_loss',\n",
    "                                                      mode = 'min',\n",
    "                                                      patience = 3,\n",
    "                                                      min_delta = 0.005)\n",
    "    tf.random.set_seed = 1234\n",
    "    initializer = tf.keras.initializers.GlorotUniform(seed=1234)\n",
    "    \n",
    "    lstm_model = tf.keras.Sequential()\n",
    "    lstm_model.add(tf.keras.layers.GRU(params[\"lstm1_nodes\"], \n",
    "                                       # dropout = params[\"lstm1_dropout\"],\n",
    "                                        return_sequences = True, \n",
    "                                        kernel_initializer=initializer))\n",
    "    if params[\"num_layers\"][\"layers\"] == \"two\":\n",
    "        lstm_model.add(tf.keras.layers.GRU(params[\"lstm2_nodes\"], \n",
    "                                          #  dropout = params[\"lstm2_dropout\"],\n",
    "                                            return_sequences = False, \n",
    "                                        kernel_initializer=initializer))\n",
    "    else:\n",
    "        lstm_model.add(tf.keras.layers.GRU(params[\"lstm2_nodes\"], \n",
    "                                        #    dropout = params[\"lstm2_dropout\"],\n",
    "                                            return_sequences = True, \n",
    "                                        kernel_initializer=initializer))\n",
    "        lstm_model.add(tf.keras.layers.GRU(params[\"num_layers\"][\"lstm3_nodes\"], \n",
    "                                         #   dropout = params[\"num_layers\"][\"lstm3_dropout\"],\n",
    "                                            return_sequences = False, \n",
    "                                        kernel_initializer=initializer))\n",
    "    lstm_model.add(tf.keras.layers.Dense(output_size, \n",
    "                                        kernel_initializer=initializer))\n",
    "   \n",
    "    lstm_model.compile(loss = tf.keras.losses.MeanAbsoluteError(),\n",
    "                      optimizer = tf.keras.optimizers.Adam(learning_rate = params[\"lr\"]),\n",
    "                      metrics = [tf.keras.metrics.mean_absolute_error])\n",
    "    \n",
    "    history = lstm_model.fit(train_in, train_out,\n",
    "                             epochs = 100,\n",
    "                             validation_data = [test_in, test_out],\n",
    "                             callbacks = [early_stopping],\n",
    "                            verbose = 2)\n",
    "    val_error = np.amin(history.history[\"val_loss\"])\n",
    "    Parameter_loss.loc[len(Parameter_loss)] = [params,val_error]\n",
    "    \n",
    "    print(\"val_error : {}\".format(val_error))\n",
    "    print(\"--------------------------------------------------------------------------------------------------------------\")\n",
    "    \n",
    "    return {\"loss\" : val_error, \"model\":lstm_model, 'status': STATUS_OK}"
   ]
  },
  {
   "cell_type": "code",
   "execution_count": 186,
   "id": "58e6c928-d4fb-4fd2-ab9d-99676038bb4c",
   "metadata": {
    "scrolled": true,
    "tags": []
   },
   "outputs": [
    {
     "name": "stdout",
     "output_type": "stream",
     "text": [
      "--------------------------------------------------------------------------------------------------------------\n",
      "---------------------------------------[ START 0]-------------------------------------------------------------\n",
      "Parameter : {'input_size': 358, 'lr': 0.003, 'lstm1_nodes': 256, 'lstm2_nodes': 64, 'num_layers': {'layers': 'three', 'lstm3_nodes': 32}}\n",
      "Epoch 1/100                                           \n",
      "\n",
      "  0%|          | 0/10 [00:46<?, ?trial/s, best loss=?]\n"
     ]
    },
    {
     "ename": "KeyboardInterrupt",
     "evalue": "",
     "output_type": "error",
     "traceback": [
      "\u001b[1;31m---------------------------------------------------------------------------\u001b[0m",
      "\u001b[1;31mKeyboardInterrupt\u001b[0m                         Traceback (most recent call last)",
      "Cell \u001b[1;32mIn[186], line 3\u001b[0m\n\u001b[0;32m      1\u001b[0m start \u001b[38;5;241m=\u001b[39m time\u001b[38;5;241m.\u001b[39mtime()\n\u001b[0;32m      2\u001b[0m trials \u001b[38;5;241m=\u001b[39m Trials()\n\u001b[1;32m----> 3\u001b[0m best \u001b[38;5;241m=\u001b[39m fmin(hyperopt_model,\n\u001b[0;32m      4\u001b[0m             space \u001b[38;5;241m=\u001b[39m space,\n\u001b[0;32m      5\u001b[0m             algo \u001b[38;5;241m=\u001b[39m tpe\u001b[38;5;241m.\u001b[39msuggest,\n\u001b[0;32m      6\u001b[0m             max_evals \u001b[38;5;241m=\u001b[39m \u001b[38;5;241m10\u001b[39m,\n\u001b[0;32m      7\u001b[0m             trials \u001b[38;5;241m=\u001b[39m trials)\n\u001b[0;32m      8\u001b[0m end \u001b[38;5;241m=\u001b[39m time\u001b[38;5;241m.\u001b[39mtime()\n",
      "File \u001b[1;32m~\\anaconda3\\Lib\\site-packages\\hyperopt\\fmin.py:540\u001b[0m, in \u001b[0;36mfmin\u001b[1;34m(fn, space, algo, max_evals, timeout, loss_threshold, trials, rstate, allow_trials_fmin, pass_expr_memo_ctrl, catch_eval_exceptions, verbose, return_argmin, points_to_evaluate, max_queue_len, show_progressbar, early_stop_fn, trials_save_file)\u001b[0m\n\u001b[0;32m    537\u001b[0m     fn \u001b[38;5;241m=\u001b[39m __objective_fmin_wrapper(fn)\n\u001b[0;32m    539\u001b[0m \u001b[38;5;28;01mif\u001b[39;00m allow_trials_fmin \u001b[38;5;129;01mand\u001b[39;00m \u001b[38;5;28mhasattr\u001b[39m(trials, \u001b[38;5;124m\"\u001b[39m\u001b[38;5;124mfmin\u001b[39m\u001b[38;5;124m\"\u001b[39m):\n\u001b[1;32m--> 540\u001b[0m     \u001b[38;5;28;01mreturn\u001b[39;00m trials\u001b[38;5;241m.\u001b[39mfmin(\n\u001b[0;32m    541\u001b[0m         fn,\n\u001b[0;32m    542\u001b[0m         space,\n\u001b[0;32m    543\u001b[0m         algo\u001b[38;5;241m=\u001b[39malgo,\n\u001b[0;32m    544\u001b[0m         max_evals\u001b[38;5;241m=\u001b[39mmax_evals,\n\u001b[0;32m    545\u001b[0m         timeout\u001b[38;5;241m=\u001b[39mtimeout,\n\u001b[0;32m    546\u001b[0m         loss_threshold\u001b[38;5;241m=\u001b[39mloss_threshold,\n\u001b[0;32m    547\u001b[0m         max_queue_len\u001b[38;5;241m=\u001b[39mmax_queue_len,\n\u001b[0;32m    548\u001b[0m         rstate\u001b[38;5;241m=\u001b[39mrstate,\n\u001b[0;32m    549\u001b[0m         pass_expr_memo_ctrl\u001b[38;5;241m=\u001b[39mpass_expr_memo_ctrl,\n\u001b[0;32m    550\u001b[0m         verbose\u001b[38;5;241m=\u001b[39mverbose,\n\u001b[0;32m    551\u001b[0m         catch_eval_exceptions\u001b[38;5;241m=\u001b[39mcatch_eval_exceptions,\n\u001b[0;32m    552\u001b[0m         return_argmin\u001b[38;5;241m=\u001b[39mreturn_argmin,\n\u001b[0;32m    553\u001b[0m         show_progressbar\u001b[38;5;241m=\u001b[39mshow_progressbar,\n\u001b[0;32m    554\u001b[0m         early_stop_fn\u001b[38;5;241m=\u001b[39mearly_stop_fn,\n\u001b[0;32m    555\u001b[0m         trials_save_file\u001b[38;5;241m=\u001b[39mtrials_save_file,\n\u001b[0;32m    556\u001b[0m     )\n\u001b[0;32m    558\u001b[0m \u001b[38;5;28;01mif\u001b[39;00m trials \u001b[38;5;129;01mis\u001b[39;00m \u001b[38;5;28;01mNone\u001b[39;00m:\n\u001b[0;32m    559\u001b[0m     \u001b[38;5;28;01mif\u001b[39;00m os\u001b[38;5;241m.\u001b[39mpath\u001b[38;5;241m.\u001b[39mexists(trials_save_file):\n",
      "File \u001b[1;32m~\\anaconda3\\Lib\\site-packages\\hyperopt\\base.py:671\u001b[0m, in \u001b[0;36mTrials.fmin\u001b[1;34m(self, fn, space, algo, max_evals, timeout, loss_threshold, max_queue_len, rstate, verbose, pass_expr_memo_ctrl, catch_eval_exceptions, return_argmin, show_progressbar, early_stop_fn, trials_save_file)\u001b[0m\n\u001b[0;32m    666\u001b[0m \u001b[38;5;66;03m# -- Stop-gap implementation!\u001b[39;00m\n\u001b[0;32m    667\u001b[0m \u001b[38;5;66;03m#    fmin should have been a Trials method in the first place\u001b[39;00m\n\u001b[0;32m    668\u001b[0m \u001b[38;5;66;03m#    but for now it's still sitting in another file.\u001b[39;00m\n\u001b[0;32m    669\u001b[0m \u001b[38;5;28;01mfrom\u001b[39;00m \u001b[38;5;21;01m.\u001b[39;00m\u001b[38;5;21;01mfmin\u001b[39;00m \u001b[38;5;28;01mimport\u001b[39;00m fmin\n\u001b[1;32m--> 671\u001b[0m \u001b[38;5;28;01mreturn\u001b[39;00m fmin(\n\u001b[0;32m    672\u001b[0m     fn,\n\u001b[0;32m    673\u001b[0m     space,\n\u001b[0;32m    674\u001b[0m     algo\u001b[38;5;241m=\u001b[39malgo,\n\u001b[0;32m    675\u001b[0m     max_evals\u001b[38;5;241m=\u001b[39mmax_evals,\n\u001b[0;32m    676\u001b[0m     timeout\u001b[38;5;241m=\u001b[39mtimeout,\n\u001b[0;32m    677\u001b[0m     loss_threshold\u001b[38;5;241m=\u001b[39mloss_threshold,\n\u001b[0;32m    678\u001b[0m     trials\u001b[38;5;241m=\u001b[39m\u001b[38;5;28mself\u001b[39m,\n\u001b[0;32m    679\u001b[0m     rstate\u001b[38;5;241m=\u001b[39mrstate,\n\u001b[0;32m    680\u001b[0m     verbose\u001b[38;5;241m=\u001b[39mverbose,\n\u001b[0;32m    681\u001b[0m     max_queue_len\u001b[38;5;241m=\u001b[39mmax_queue_len,\n\u001b[0;32m    682\u001b[0m     allow_trials_fmin\u001b[38;5;241m=\u001b[39m\u001b[38;5;28;01mFalse\u001b[39;00m,  \u001b[38;5;66;03m# -- prevent recursion\u001b[39;00m\n\u001b[0;32m    683\u001b[0m     pass_expr_memo_ctrl\u001b[38;5;241m=\u001b[39mpass_expr_memo_ctrl,\n\u001b[0;32m    684\u001b[0m     catch_eval_exceptions\u001b[38;5;241m=\u001b[39mcatch_eval_exceptions,\n\u001b[0;32m    685\u001b[0m     return_argmin\u001b[38;5;241m=\u001b[39mreturn_argmin,\n\u001b[0;32m    686\u001b[0m     show_progressbar\u001b[38;5;241m=\u001b[39mshow_progressbar,\n\u001b[0;32m    687\u001b[0m     early_stop_fn\u001b[38;5;241m=\u001b[39mearly_stop_fn,\n\u001b[0;32m    688\u001b[0m     trials_save_file\u001b[38;5;241m=\u001b[39mtrials_save_file,\n\u001b[0;32m    689\u001b[0m )\n",
      "File \u001b[1;32m~\\anaconda3\\Lib\\site-packages\\hyperopt\\fmin.py:586\u001b[0m, in \u001b[0;36mfmin\u001b[1;34m(fn, space, algo, max_evals, timeout, loss_threshold, trials, rstate, allow_trials_fmin, pass_expr_memo_ctrl, catch_eval_exceptions, verbose, return_argmin, points_to_evaluate, max_queue_len, show_progressbar, early_stop_fn, trials_save_file)\u001b[0m\n\u001b[0;32m    583\u001b[0m rval\u001b[38;5;241m.\u001b[39mcatch_eval_exceptions \u001b[38;5;241m=\u001b[39m catch_eval_exceptions\n\u001b[0;32m    585\u001b[0m \u001b[38;5;66;03m# next line is where the fmin is actually executed\u001b[39;00m\n\u001b[1;32m--> 586\u001b[0m rval\u001b[38;5;241m.\u001b[39mexhaust()\n\u001b[0;32m    588\u001b[0m \u001b[38;5;28;01mif\u001b[39;00m return_argmin:\n\u001b[0;32m    589\u001b[0m     \u001b[38;5;28;01mif\u001b[39;00m \u001b[38;5;28mlen\u001b[39m(trials\u001b[38;5;241m.\u001b[39mtrials) \u001b[38;5;241m==\u001b[39m \u001b[38;5;241m0\u001b[39m:\n",
      "File \u001b[1;32m~\\anaconda3\\Lib\\site-packages\\hyperopt\\fmin.py:364\u001b[0m, in \u001b[0;36mFMinIter.exhaust\u001b[1;34m(self)\u001b[0m\n\u001b[0;32m    362\u001b[0m \u001b[38;5;28;01mdef\u001b[39;00m \u001b[38;5;21mexhaust\u001b[39m(\u001b[38;5;28mself\u001b[39m):\n\u001b[0;32m    363\u001b[0m     n_done \u001b[38;5;241m=\u001b[39m \u001b[38;5;28mlen\u001b[39m(\u001b[38;5;28mself\u001b[39m\u001b[38;5;241m.\u001b[39mtrials)\n\u001b[1;32m--> 364\u001b[0m     \u001b[38;5;28mself\u001b[39m\u001b[38;5;241m.\u001b[39mrun(\u001b[38;5;28mself\u001b[39m\u001b[38;5;241m.\u001b[39mmax_evals \u001b[38;5;241m-\u001b[39m n_done, block_until_done\u001b[38;5;241m=\u001b[39m\u001b[38;5;28mself\u001b[39m\u001b[38;5;241m.\u001b[39masynchronous)\n\u001b[0;32m    365\u001b[0m     \u001b[38;5;28mself\u001b[39m\u001b[38;5;241m.\u001b[39mtrials\u001b[38;5;241m.\u001b[39mrefresh()\n\u001b[0;32m    366\u001b[0m     \u001b[38;5;28;01mreturn\u001b[39;00m \u001b[38;5;28mself\u001b[39m\n",
      "File \u001b[1;32m~\\anaconda3\\Lib\\site-packages\\hyperopt\\fmin.py:300\u001b[0m, in \u001b[0;36mFMinIter.run\u001b[1;34m(self, N, block_until_done)\u001b[0m\n\u001b[0;32m    297\u001b[0m     time\u001b[38;5;241m.\u001b[39msleep(\u001b[38;5;28mself\u001b[39m\u001b[38;5;241m.\u001b[39mpoll_interval_secs)\n\u001b[0;32m    298\u001b[0m \u001b[38;5;28;01melse\u001b[39;00m:\n\u001b[0;32m    299\u001b[0m     \u001b[38;5;66;03m# -- loop over trials and do the jobs directly\u001b[39;00m\n\u001b[1;32m--> 300\u001b[0m     \u001b[38;5;28mself\u001b[39m\u001b[38;5;241m.\u001b[39mserial_evaluate()\n\u001b[0;32m    302\u001b[0m \u001b[38;5;28mself\u001b[39m\u001b[38;5;241m.\u001b[39mtrials\u001b[38;5;241m.\u001b[39mrefresh()\n\u001b[0;32m    303\u001b[0m \u001b[38;5;28;01mif\u001b[39;00m \u001b[38;5;28mself\u001b[39m\u001b[38;5;241m.\u001b[39mtrials_save_file \u001b[38;5;241m!=\u001b[39m \u001b[38;5;124m\"\u001b[39m\u001b[38;5;124m\"\u001b[39m:\n",
      "File \u001b[1;32m~\\anaconda3\\Lib\\site-packages\\hyperopt\\fmin.py:178\u001b[0m, in \u001b[0;36mFMinIter.serial_evaluate\u001b[1;34m(self, N)\u001b[0m\n\u001b[0;32m    176\u001b[0m ctrl \u001b[38;5;241m=\u001b[39m base\u001b[38;5;241m.\u001b[39mCtrl(\u001b[38;5;28mself\u001b[39m\u001b[38;5;241m.\u001b[39mtrials, current_trial\u001b[38;5;241m=\u001b[39mtrial)\n\u001b[0;32m    177\u001b[0m \u001b[38;5;28;01mtry\u001b[39;00m:\n\u001b[1;32m--> 178\u001b[0m     result \u001b[38;5;241m=\u001b[39m \u001b[38;5;28mself\u001b[39m\u001b[38;5;241m.\u001b[39mdomain\u001b[38;5;241m.\u001b[39mevaluate(spec, ctrl)\n\u001b[0;32m    179\u001b[0m \u001b[38;5;28;01mexcept\u001b[39;00m \u001b[38;5;167;01mException\u001b[39;00m \u001b[38;5;28;01mas\u001b[39;00m e:\n\u001b[0;32m    180\u001b[0m     logger\u001b[38;5;241m.\u001b[39merror(\u001b[38;5;124m\"\u001b[39m\u001b[38;5;124mjob exception: \u001b[39m\u001b[38;5;132;01m%s\u001b[39;00m\u001b[38;5;124m\"\u001b[39m \u001b[38;5;241m%\u001b[39m \u001b[38;5;28mstr\u001b[39m(e))\n",
      "File \u001b[1;32m~\\anaconda3\\Lib\\site-packages\\hyperopt\\base.py:892\u001b[0m, in \u001b[0;36mDomain.evaluate\u001b[1;34m(self, config, ctrl, attach_attachments)\u001b[0m\n\u001b[0;32m    883\u001b[0m \u001b[38;5;28;01melse\u001b[39;00m:\n\u001b[0;32m    884\u001b[0m     \u001b[38;5;66;03m# -- the \"work\" of evaluating `config` can be written\u001b[39;00m\n\u001b[0;32m    885\u001b[0m     \u001b[38;5;66;03m#    either into the pyll part (self.expr)\u001b[39;00m\n\u001b[0;32m    886\u001b[0m     \u001b[38;5;66;03m#    or the normal Python part (self.fn)\u001b[39;00m\n\u001b[0;32m    887\u001b[0m     pyll_rval \u001b[38;5;241m=\u001b[39m pyll\u001b[38;5;241m.\u001b[39mrec_eval(\n\u001b[0;32m    888\u001b[0m         \u001b[38;5;28mself\u001b[39m\u001b[38;5;241m.\u001b[39mexpr,\n\u001b[0;32m    889\u001b[0m         memo\u001b[38;5;241m=\u001b[39mmemo,\n\u001b[0;32m    890\u001b[0m         print_node_on_error\u001b[38;5;241m=\u001b[39m\u001b[38;5;28mself\u001b[39m\u001b[38;5;241m.\u001b[39mrec_eval_print_node_on_error,\n\u001b[0;32m    891\u001b[0m     )\n\u001b[1;32m--> 892\u001b[0m     rval \u001b[38;5;241m=\u001b[39m \u001b[38;5;28mself\u001b[39m\u001b[38;5;241m.\u001b[39mfn(pyll_rval)\n\u001b[0;32m    894\u001b[0m \u001b[38;5;28;01mif\u001b[39;00m \u001b[38;5;28misinstance\u001b[39m(rval, (\u001b[38;5;28mfloat\u001b[39m, \u001b[38;5;28mint\u001b[39m, np\u001b[38;5;241m.\u001b[39mnumber)):\n\u001b[0;32m    895\u001b[0m     dict_rval \u001b[38;5;241m=\u001b[39m {\u001b[38;5;124m\"\u001b[39m\u001b[38;5;124mloss\u001b[39m\u001b[38;5;124m\"\u001b[39m: \u001b[38;5;28mfloat\u001b[39m(rval), \u001b[38;5;124m\"\u001b[39m\u001b[38;5;124mstatus\u001b[39m\u001b[38;5;124m\"\u001b[39m: STATUS_OK}\n",
      "Cell \u001b[1;32mIn[185], line 50\u001b[0m, in \u001b[0;36mhyperopt_model\u001b[1;34m(params)\u001b[0m\n\u001b[0;32m     43\u001b[0m lstm_model\u001b[38;5;241m.\u001b[39madd(tf\u001b[38;5;241m.\u001b[39mkeras\u001b[38;5;241m.\u001b[39mlayers\u001b[38;5;241m.\u001b[39mDense(output_size, \n\u001b[0;32m     44\u001b[0m                                     kernel_initializer\u001b[38;5;241m=\u001b[39minitializer))\n\u001b[0;32m     46\u001b[0m lstm_model\u001b[38;5;241m.\u001b[39mcompile(loss \u001b[38;5;241m=\u001b[39m tf\u001b[38;5;241m.\u001b[39mkeras\u001b[38;5;241m.\u001b[39mlosses\u001b[38;5;241m.\u001b[39mMeanAbsoluteError(),\n\u001b[0;32m     47\u001b[0m                   optimizer \u001b[38;5;241m=\u001b[39m tf\u001b[38;5;241m.\u001b[39mkeras\u001b[38;5;241m.\u001b[39moptimizers\u001b[38;5;241m.\u001b[39mAdam(learning_rate \u001b[38;5;241m=\u001b[39m params[\u001b[38;5;124m\"\u001b[39m\u001b[38;5;124mlr\u001b[39m\u001b[38;5;124m\"\u001b[39m]),\n\u001b[0;32m     48\u001b[0m                   metrics \u001b[38;5;241m=\u001b[39m [tf\u001b[38;5;241m.\u001b[39mkeras\u001b[38;5;241m.\u001b[39mmetrics\u001b[38;5;241m.\u001b[39mmean_absolute_error])\n\u001b[1;32m---> 50\u001b[0m history \u001b[38;5;241m=\u001b[39m lstm_model\u001b[38;5;241m.\u001b[39mfit(train_in, train_out,\n\u001b[0;32m     51\u001b[0m                          epochs \u001b[38;5;241m=\u001b[39m \u001b[38;5;241m100\u001b[39m,\n\u001b[0;32m     52\u001b[0m                          validation_data \u001b[38;5;241m=\u001b[39m [test_in, test_out],\n\u001b[0;32m     53\u001b[0m                          callbacks \u001b[38;5;241m=\u001b[39m [early_stopping],\n\u001b[0;32m     54\u001b[0m                         verbose \u001b[38;5;241m=\u001b[39m \u001b[38;5;241m2\u001b[39m)\n\u001b[0;32m     55\u001b[0m val_error \u001b[38;5;241m=\u001b[39m np\u001b[38;5;241m.\u001b[39mamin(history\u001b[38;5;241m.\u001b[39mhistory[\u001b[38;5;124m\"\u001b[39m\u001b[38;5;124mval_loss\u001b[39m\u001b[38;5;124m\"\u001b[39m])\n\u001b[0;32m     56\u001b[0m Parameter_loss\u001b[38;5;241m.\u001b[39mloc[\u001b[38;5;28mlen\u001b[39m(Parameter_loss)] \u001b[38;5;241m=\u001b[39m [params,val_error]\n",
      "File \u001b[1;32m~\\anaconda3\\Lib\\site-packages\\keras\\src\\utils\\traceback_utils.py:65\u001b[0m, in \u001b[0;36mfilter_traceback.<locals>.error_handler\u001b[1;34m(*args, **kwargs)\u001b[0m\n\u001b[0;32m     63\u001b[0m filtered_tb \u001b[38;5;241m=\u001b[39m \u001b[38;5;28;01mNone\u001b[39;00m\n\u001b[0;32m     64\u001b[0m \u001b[38;5;28;01mtry\u001b[39;00m:\n\u001b[1;32m---> 65\u001b[0m     \u001b[38;5;28;01mreturn\u001b[39;00m fn(\u001b[38;5;241m*\u001b[39margs, \u001b[38;5;241m*\u001b[39m\u001b[38;5;241m*\u001b[39mkwargs)\n\u001b[0;32m     66\u001b[0m \u001b[38;5;28;01mexcept\u001b[39;00m \u001b[38;5;167;01mException\u001b[39;00m \u001b[38;5;28;01mas\u001b[39;00m e:\n\u001b[0;32m     67\u001b[0m     filtered_tb \u001b[38;5;241m=\u001b[39m _process_traceback_frames(e\u001b[38;5;241m.\u001b[39m__traceback__)\n",
      "File \u001b[1;32m~\\anaconda3\\Lib\\site-packages\\keras\\src\\engine\\training.py:1807\u001b[0m, in \u001b[0;36mModel.fit\u001b[1;34m(self, x, y, batch_size, epochs, verbose, callbacks, validation_split, validation_data, shuffle, class_weight, sample_weight, initial_epoch, steps_per_epoch, validation_steps, validation_batch_size, validation_freq, max_queue_size, workers, use_multiprocessing)\u001b[0m\n\u001b[0;32m   1799\u001b[0m \u001b[38;5;28;01mwith\u001b[39;00m tf\u001b[38;5;241m.\u001b[39mprofiler\u001b[38;5;241m.\u001b[39mexperimental\u001b[38;5;241m.\u001b[39mTrace(\n\u001b[0;32m   1800\u001b[0m     \u001b[38;5;124m\"\u001b[39m\u001b[38;5;124mtrain\u001b[39m\u001b[38;5;124m\"\u001b[39m,\n\u001b[0;32m   1801\u001b[0m     epoch_num\u001b[38;5;241m=\u001b[39mepoch,\n\u001b[1;32m   (...)\u001b[0m\n\u001b[0;32m   1804\u001b[0m     _r\u001b[38;5;241m=\u001b[39m\u001b[38;5;241m1\u001b[39m,\n\u001b[0;32m   1805\u001b[0m ):\n\u001b[0;32m   1806\u001b[0m     callbacks\u001b[38;5;241m.\u001b[39mon_train_batch_begin(step)\n\u001b[1;32m-> 1807\u001b[0m     tmp_logs \u001b[38;5;241m=\u001b[39m \u001b[38;5;28mself\u001b[39m\u001b[38;5;241m.\u001b[39mtrain_function(iterator)\n\u001b[0;32m   1808\u001b[0m     \u001b[38;5;28;01mif\u001b[39;00m data_handler\u001b[38;5;241m.\u001b[39mshould_sync:\n\u001b[0;32m   1809\u001b[0m         context\u001b[38;5;241m.\u001b[39masync_wait()\n",
      "File \u001b[1;32m~\\anaconda3\\Lib\\site-packages\\tensorflow\\python\\util\\traceback_utils.py:150\u001b[0m, in \u001b[0;36mfilter_traceback.<locals>.error_handler\u001b[1;34m(*args, **kwargs)\u001b[0m\n\u001b[0;32m    148\u001b[0m filtered_tb \u001b[38;5;241m=\u001b[39m \u001b[38;5;28;01mNone\u001b[39;00m\n\u001b[0;32m    149\u001b[0m \u001b[38;5;28;01mtry\u001b[39;00m:\n\u001b[1;32m--> 150\u001b[0m   \u001b[38;5;28;01mreturn\u001b[39;00m fn(\u001b[38;5;241m*\u001b[39margs, \u001b[38;5;241m*\u001b[39m\u001b[38;5;241m*\u001b[39mkwargs)\n\u001b[0;32m    151\u001b[0m \u001b[38;5;28;01mexcept\u001b[39;00m \u001b[38;5;167;01mException\u001b[39;00m \u001b[38;5;28;01mas\u001b[39;00m e:\n\u001b[0;32m    152\u001b[0m   filtered_tb \u001b[38;5;241m=\u001b[39m _process_traceback_frames(e\u001b[38;5;241m.\u001b[39m__traceback__)\n",
      "File \u001b[1;32m~\\anaconda3\\Lib\\site-packages\\tensorflow\\python\\eager\\polymorphic_function\\polymorphic_function.py:832\u001b[0m, in \u001b[0;36mFunction.__call__\u001b[1;34m(self, *args, **kwds)\u001b[0m\n\u001b[0;32m    829\u001b[0m compiler \u001b[38;5;241m=\u001b[39m \u001b[38;5;124m\"\u001b[39m\u001b[38;5;124mxla\u001b[39m\u001b[38;5;124m\"\u001b[39m \u001b[38;5;28;01mif\u001b[39;00m \u001b[38;5;28mself\u001b[39m\u001b[38;5;241m.\u001b[39m_jit_compile \u001b[38;5;28;01melse\u001b[39;00m \u001b[38;5;124m\"\u001b[39m\u001b[38;5;124mnonXla\u001b[39m\u001b[38;5;124m\"\u001b[39m\n\u001b[0;32m    831\u001b[0m \u001b[38;5;28;01mwith\u001b[39;00m OptionalXlaContext(\u001b[38;5;28mself\u001b[39m\u001b[38;5;241m.\u001b[39m_jit_compile):\n\u001b[1;32m--> 832\u001b[0m   result \u001b[38;5;241m=\u001b[39m \u001b[38;5;28mself\u001b[39m\u001b[38;5;241m.\u001b[39m_call(\u001b[38;5;241m*\u001b[39margs, \u001b[38;5;241m*\u001b[39m\u001b[38;5;241m*\u001b[39mkwds)\n\u001b[0;32m    834\u001b[0m new_tracing_count \u001b[38;5;241m=\u001b[39m \u001b[38;5;28mself\u001b[39m\u001b[38;5;241m.\u001b[39mexperimental_get_tracing_count()\n\u001b[0;32m    835\u001b[0m without_tracing \u001b[38;5;241m=\u001b[39m (tracing_count \u001b[38;5;241m==\u001b[39m new_tracing_count)\n",
      "File \u001b[1;32m~\\anaconda3\\Lib\\site-packages\\tensorflow\\python\\eager\\polymorphic_function\\polymorphic_function.py:868\u001b[0m, in \u001b[0;36mFunction._call\u001b[1;34m(self, *args, **kwds)\u001b[0m\n\u001b[0;32m    865\u001b[0m   \u001b[38;5;28mself\u001b[39m\u001b[38;5;241m.\u001b[39m_lock\u001b[38;5;241m.\u001b[39mrelease()\n\u001b[0;32m    866\u001b[0m   \u001b[38;5;66;03m# In this case we have created variables on the first call, so we run the\u001b[39;00m\n\u001b[0;32m    867\u001b[0m   \u001b[38;5;66;03m# defunned version which is guaranteed to never create variables.\u001b[39;00m\n\u001b[1;32m--> 868\u001b[0m   \u001b[38;5;28;01mreturn\u001b[39;00m tracing_compilation\u001b[38;5;241m.\u001b[39mcall_function(\n\u001b[0;32m    869\u001b[0m       args, kwds, \u001b[38;5;28mself\u001b[39m\u001b[38;5;241m.\u001b[39m_no_variable_creation_config\n\u001b[0;32m    870\u001b[0m   )\n\u001b[0;32m    871\u001b[0m \u001b[38;5;28;01melif\u001b[39;00m \u001b[38;5;28mself\u001b[39m\u001b[38;5;241m.\u001b[39m_variable_creation_config \u001b[38;5;129;01mis\u001b[39;00m \u001b[38;5;129;01mnot\u001b[39;00m \u001b[38;5;28;01mNone\u001b[39;00m:\n\u001b[0;32m    872\u001b[0m   \u001b[38;5;66;03m# Release the lock early so that multiple threads can perform the call\u001b[39;00m\n\u001b[0;32m    873\u001b[0m   \u001b[38;5;66;03m# in parallel.\u001b[39;00m\n\u001b[0;32m    874\u001b[0m   \u001b[38;5;28mself\u001b[39m\u001b[38;5;241m.\u001b[39m_lock\u001b[38;5;241m.\u001b[39mrelease()\n",
      "File \u001b[1;32m~\\anaconda3\\Lib\\site-packages\\tensorflow\\python\\eager\\polymorphic_function\\tracing_compilation.py:139\u001b[0m, in \u001b[0;36mcall_function\u001b[1;34m(args, kwargs, tracing_options)\u001b[0m\n\u001b[0;32m    137\u001b[0m bound_args \u001b[38;5;241m=\u001b[39m function\u001b[38;5;241m.\u001b[39mfunction_type\u001b[38;5;241m.\u001b[39mbind(\u001b[38;5;241m*\u001b[39margs, \u001b[38;5;241m*\u001b[39m\u001b[38;5;241m*\u001b[39mkwargs)\n\u001b[0;32m    138\u001b[0m flat_inputs \u001b[38;5;241m=\u001b[39m function\u001b[38;5;241m.\u001b[39mfunction_type\u001b[38;5;241m.\u001b[39munpack_inputs(bound_args)\n\u001b[1;32m--> 139\u001b[0m \u001b[38;5;28;01mreturn\u001b[39;00m function\u001b[38;5;241m.\u001b[39m_call_flat(  \u001b[38;5;66;03m# pylint: disable=protected-access\u001b[39;00m\n\u001b[0;32m    140\u001b[0m     flat_inputs, captured_inputs\u001b[38;5;241m=\u001b[39mfunction\u001b[38;5;241m.\u001b[39mcaptured_inputs\n\u001b[0;32m    141\u001b[0m )\n",
      "File \u001b[1;32m~\\anaconda3\\Lib\\site-packages\\tensorflow\\python\\eager\\polymorphic_function\\concrete_function.py:1323\u001b[0m, in \u001b[0;36mConcreteFunction._call_flat\u001b[1;34m(self, tensor_inputs, captured_inputs)\u001b[0m\n\u001b[0;32m   1319\u001b[0m possible_gradient_type \u001b[38;5;241m=\u001b[39m gradients_util\u001b[38;5;241m.\u001b[39mPossibleTapeGradientTypes(args)\n\u001b[0;32m   1320\u001b[0m \u001b[38;5;28;01mif\u001b[39;00m (possible_gradient_type \u001b[38;5;241m==\u001b[39m gradients_util\u001b[38;5;241m.\u001b[39mPOSSIBLE_GRADIENT_TYPES_NONE\n\u001b[0;32m   1321\u001b[0m     \u001b[38;5;129;01mand\u001b[39;00m executing_eagerly):\n\u001b[0;32m   1322\u001b[0m   \u001b[38;5;66;03m# No tape is watching; skip to running the function.\u001b[39;00m\n\u001b[1;32m-> 1323\u001b[0m   \u001b[38;5;28;01mreturn\u001b[39;00m \u001b[38;5;28mself\u001b[39m\u001b[38;5;241m.\u001b[39m_inference_function\u001b[38;5;241m.\u001b[39mcall_preflattened(args)\n\u001b[0;32m   1324\u001b[0m forward_backward \u001b[38;5;241m=\u001b[39m \u001b[38;5;28mself\u001b[39m\u001b[38;5;241m.\u001b[39m_select_forward_and_backward_functions(\n\u001b[0;32m   1325\u001b[0m     args,\n\u001b[0;32m   1326\u001b[0m     possible_gradient_type,\n\u001b[0;32m   1327\u001b[0m     executing_eagerly)\n\u001b[0;32m   1328\u001b[0m forward_function, args_with_tangents \u001b[38;5;241m=\u001b[39m forward_backward\u001b[38;5;241m.\u001b[39mforward()\n",
      "File \u001b[1;32m~\\anaconda3\\Lib\\site-packages\\tensorflow\\python\\eager\\polymorphic_function\\atomic_function.py:216\u001b[0m, in \u001b[0;36mAtomicFunction.call_preflattened\u001b[1;34m(self, args)\u001b[0m\n\u001b[0;32m    214\u001b[0m \u001b[38;5;28;01mdef\u001b[39;00m \u001b[38;5;21mcall_preflattened\u001b[39m(\u001b[38;5;28mself\u001b[39m, args: Sequence[core\u001b[38;5;241m.\u001b[39mTensor]) \u001b[38;5;241m-\u001b[39m\u001b[38;5;241m>\u001b[39m Any:\n\u001b[0;32m    215\u001b[0m \u001b[38;5;250m  \u001b[39m\u001b[38;5;124;03m\"\"\"Calls with flattened tensor inputs and returns the structured output.\"\"\"\u001b[39;00m\n\u001b[1;32m--> 216\u001b[0m   flat_outputs \u001b[38;5;241m=\u001b[39m \u001b[38;5;28mself\u001b[39m\u001b[38;5;241m.\u001b[39mcall_flat(\u001b[38;5;241m*\u001b[39margs)\n\u001b[0;32m    217\u001b[0m   \u001b[38;5;28;01mreturn\u001b[39;00m \u001b[38;5;28mself\u001b[39m\u001b[38;5;241m.\u001b[39mfunction_type\u001b[38;5;241m.\u001b[39mpack_output(flat_outputs)\n",
      "File \u001b[1;32m~\\anaconda3\\Lib\\site-packages\\tensorflow\\python\\eager\\polymorphic_function\\atomic_function.py:251\u001b[0m, in \u001b[0;36mAtomicFunction.call_flat\u001b[1;34m(self, *args)\u001b[0m\n\u001b[0;32m    249\u001b[0m \u001b[38;5;28;01mwith\u001b[39;00m record\u001b[38;5;241m.\u001b[39mstop_recording():\n\u001b[0;32m    250\u001b[0m   \u001b[38;5;28;01mif\u001b[39;00m \u001b[38;5;28mself\u001b[39m\u001b[38;5;241m.\u001b[39m_bound_context\u001b[38;5;241m.\u001b[39mexecuting_eagerly():\n\u001b[1;32m--> 251\u001b[0m     outputs \u001b[38;5;241m=\u001b[39m \u001b[38;5;28mself\u001b[39m\u001b[38;5;241m.\u001b[39m_bound_context\u001b[38;5;241m.\u001b[39mcall_function(\n\u001b[0;32m    252\u001b[0m         \u001b[38;5;28mself\u001b[39m\u001b[38;5;241m.\u001b[39mname,\n\u001b[0;32m    253\u001b[0m         \u001b[38;5;28mlist\u001b[39m(args),\n\u001b[0;32m    254\u001b[0m         \u001b[38;5;28mlen\u001b[39m(\u001b[38;5;28mself\u001b[39m\u001b[38;5;241m.\u001b[39mfunction_type\u001b[38;5;241m.\u001b[39mflat_outputs),\n\u001b[0;32m    255\u001b[0m     )\n\u001b[0;32m    256\u001b[0m   \u001b[38;5;28;01melse\u001b[39;00m:\n\u001b[0;32m    257\u001b[0m     outputs \u001b[38;5;241m=\u001b[39m make_call_op_in_graph(\n\u001b[0;32m    258\u001b[0m         \u001b[38;5;28mself\u001b[39m,\n\u001b[0;32m    259\u001b[0m         \u001b[38;5;28mlist\u001b[39m(args),\n\u001b[0;32m    260\u001b[0m         \u001b[38;5;28mself\u001b[39m\u001b[38;5;241m.\u001b[39m_bound_context\u001b[38;5;241m.\u001b[39mfunction_call_options\u001b[38;5;241m.\u001b[39mas_attrs(),\n\u001b[0;32m    261\u001b[0m     )\n",
      "File \u001b[1;32m~\\anaconda3\\Lib\\site-packages\\tensorflow\\python\\eager\\context.py:1486\u001b[0m, in \u001b[0;36mContext.call_function\u001b[1;34m(self, name, tensor_inputs, num_outputs)\u001b[0m\n\u001b[0;32m   1484\u001b[0m cancellation_context \u001b[38;5;241m=\u001b[39m cancellation\u001b[38;5;241m.\u001b[39mcontext()\n\u001b[0;32m   1485\u001b[0m \u001b[38;5;28;01mif\u001b[39;00m cancellation_context \u001b[38;5;129;01mis\u001b[39;00m \u001b[38;5;28;01mNone\u001b[39;00m:\n\u001b[1;32m-> 1486\u001b[0m   outputs \u001b[38;5;241m=\u001b[39m execute\u001b[38;5;241m.\u001b[39mexecute(\n\u001b[0;32m   1487\u001b[0m       name\u001b[38;5;241m.\u001b[39mdecode(\u001b[38;5;124m\"\u001b[39m\u001b[38;5;124mutf-8\u001b[39m\u001b[38;5;124m\"\u001b[39m),\n\u001b[0;32m   1488\u001b[0m       num_outputs\u001b[38;5;241m=\u001b[39mnum_outputs,\n\u001b[0;32m   1489\u001b[0m       inputs\u001b[38;5;241m=\u001b[39mtensor_inputs,\n\u001b[0;32m   1490\u001b[0m       attrs\u001b[38;5;241m=\u001b[39mattrs,\n\u001b[0;32m   1491\u001b[0m       ctx\u001b[38;5;241m=\u001b[39m\u001b[38;5;28mself\u001b[39m,\n\u001b[0;32m   1492\u001b[0m   )\n\u001b[0;32m   1493\u001b[0m \u001b[38;5;28;01melse\u001b[39;00m:\n\u001b[0;32m   1494\u001b[0m   outputs \u001b[38;5;241m=\u001b[39m execute\u001b[38;5;241m.\u001b[39mexecute_with_cancellation(\n\u001b[0;32m   1495\u001b[0m       name\u001b[38;5;241m.\u001b[39mdecode(\u001b[38;5;124m\"\u001b[39m\u001b[38;5;124mutf-8\u001b[39m\u001b[38;5;124m\"\u001b[39m),\n\u001b[0;32m   1496\u001b[0m       num_outputs\u001b[38;5;241m=\u001b[39mnum_outputs,\n\u001b[1;32m   (...)\u001b[0m\n\u001b[0;32m   1500\u001b[0m       cancellation_manager\u001b[38;5;241m=\u001b[39mcancellation_context,\n\u001b[0;32m   1501\u001b[0m   )\n",
      "File \u001b[1;32m~\\anaconda3\\Lib\\site-packages\\tensorflow\\python\\eager\\execute.py:53\u001b[0m, in \u001b[0;36mquick_execute\u001b[1;34m(op_name, num_outputs, inputs, attrs, ctx, name)\u001b[0m\n\u001b[0;32m     51\u001b[0m \u001b[38;5;28;01mtry\u001b[39;00m:\n\u001b[0;32m     52\u001b[0m   ctx\u001b[38;5;241m.\u001b[39mensure_initialized()\n\u001b[1;32m---> 53\u001b[0m   tensors \u001b[38;5;241m=\u001b[39m pywrap_tfe\u001b[38;5;241m.\u001b[39mTFE_Py_Execute(ctx\u001b[38;5;241m.\u001b[39m_handle, device_name, op_name,\n\u001b[0;32m     54\u001b[0m                                       inputs, attrs, num_outputs)\n\u001b[0;32m     55\u001b[0m \u001b[38;5;28;01mexcept\u001b[39;00m core\u001b[38;5;241m.\u001b[39m_NotOkStatusException \u001b[38;5;28;01mas\u001b[39;00m e:\n\u001b[0;32m     56\u001b[0m   \u001b[38;5;28;01mif\u001b[39;00m name \u001b[38;5;129;01mis\u001b[39;00m \u001b[38;5;129;01mnot\u001b[39;00m \u001b[38;5;28;01mNone\u001b[39;00m:\n",
      "\u001b[1;31mKeyboardInterrupt\u001b[0m: "
     ]
    }
   ],
   "source": [
    "start = time.time()\n",
    "trials = Trials()\n",
    "best = fmin(hyperopt_model,\n",
    "            space = space,\n",
    "            algo = tpe.suggest,\n",
    "            max_evals = 10,\n",
    "            trials = trials)\n",
    "end = time.time()"
   ]
  },
  {
   "cell_type": "code",
   "execution_count": 85,
   "id": "447de0e7-bc09-4673-9eb3-ce805d6cd5d7",
   "metadata": {
    "tags": []
   },
   "outputs": [
    {
     "data": {
      "text/plain": [
       "{'input_size': 0, 'lr': 0, 'lstm1_nodes': 3, 'lstm2_nodes': 2, 'num_layers': 0}"
      ]
     },
     "execution_count": 85,
     "metadata": {},
     "output_type": "execute_result"
    }
   ],
   "source": [
    "best"
   ]
  },
  {
   "cell_type": "code",
   "execution_count": null,
   "id": "b35243be-4515-4462-bc4f-9c60571c1241",
   "metadata": {},
   "outputs": [],
   "source": []
  },
  {
   "cell_type": "code",
   "execution_count": 54,
   "id": "4dfe7b78-50cf-44d6-b420-93569e5c26ee",
   "metadata": {
    "tags": []
   },
   "outputs": [
    {
     "data": {
      "text/plain": [
       "8.906722295284272"
      ]
     },
     "execution_count": 54,
     "metadata": {},
     "output_type": "execute_result"
    }
   ],
   "source": [
    "(end- start)/60"
   ]
  },
  {
   "cell_type": "code",
   "execution_count": 208,
   "id": "674236e3-35b3-4873-bbc4-5e0792c6a51c",
   "metadata": {
    "tags": []
   },
   "outputs": [
    {
     "data": {
      "text/html": [
       "<div>\n",
       "<style scoped>\n",
       "    .dataframe tbody tr th:only-of-type {\n",
       "        vertical-align: middle;\n",
       "    }\n",
       "\n",
       "    .dataframe tbody tr th {\n",
       "        vertical-align: top;\n",
       "    }\n",
       "\n",
       "    .dataframe thead th {\n",
       "        text-align: right;\n",
       "    }\n",
       "</style>\n",
       "<table border=\"1\" class=\"dataframe\">\n",
       "  <thead>\n",
       "    <tr style=\"text-align: right;\">\n",
       "      <th></th>\n",
       "      <th>최고기온</th>\n",
       "      <th>최저기온</th>\n",
       "      <th>일교차</th>\n",
       "      <th>강수량</th>\n",
       "      <th>평균습도</th>\n",
       "      <th>평균풍속</th>\n",
       "      <th>일조합</th>\n",
       "      <th>일사합</th>\n",
       "      <th>일조율</th>\n",
       "      <th>평균기온</th>\n",
       "      <th>가조합</th>\n",
       "      <th>일사_일조</th>\n",
       "      <th>sin_cos</th>\n",
       "      <th>가을</th>\n",
       "      <th>겨울</th>\n",
       "      <th>봄</th>\n",
       "      <th>여름</th>\n",
       "    </tr>\n",
       "  </thead>\n",
       "  <tbody>\n",
       "    <tr>\n",
       "      <th>366</th>\n",
       "      <td>-4.9</td>\n",
       "      <td>-15.0</td>\n",
       "      <td>10.1</td>\n",
       "      <td>0.0</td>\n",
       "      <td>73.8</td>\n",
       "      <td>0.8</td>\n",
       "      <td>2.7</td>\n",
       "      <td>0.00</td>\n",
       "      <td>28.1</td>\n",
       "      <td>-9.8</td>\n",
       "      <td>9.608541</td>\n",
       "      <td>0.000000</td>\n",
       "      <td>-1.017065</td>\n",
       "      <td>0</td>\n",
       "      <td>1</td>\n",
       "      <td>0</td>\n",
       "      <td>0</td>\n",
       "    </tr>\n",
       "    <tr>\n",
       "      <th>367</th>\n",
       "      <td>0.2</td>\n",
       "      <td>-12.3</td>\n",
       "      <td>12.5</td>\n",
       "      <td>0.0</td>\n",
       "      <td>72.3</td>\n",
       "      <td>1.4</td>\n",
       "      <td>4.9</td>\n",
       "      <td>0.00</td>\n",
       "      <td>51.0</td>\n",
       "      <td>-6.2</td>\n",
       "      <td>9.607843</td>\n",
       "      <td>0.000000</td>\n",
       "      <td>-1.033829</td>\n",
       "      <td>0</td>\n",
       "      <td>1</td>\n",
       "      <td>0</td>\n",
       "      <td>0</td>\n",
       "    </tr>\n",
       "    <tr>\n",
       "      <th>368</th>\n",
       "      <td>0.3</td>\n",
       "      <td>-4.7</td>\n",
       "      <td>5.0</td>\n",
       "      <td>3.0</td>\n",
       "      <td>77.0</td>\n",
       "      <td>2.6</td>\n",
       "      <td>0.0</td>\n",
       "      <td>0.00</td>\n",
       "      <td>0.0</td>\n",
       "      <td>-1.1</td>\n",
       "      <td>9.653806</td>\n",
       "      <td>0.000000</td>\n",
       "      <td>-1.050286</td>\n",
       "      <td>0</td>\n",
       "      <td>1</td>\n",
       "      <td>0</td>\n",
       "      <td>0</td>\n",
       "    </tr>\n",
       "    <tr>\n",
       "      <th>369</th>\n",
       "      <td>-4.7</td>\n",
       "      <td>-13.7</td>\n",
       "      <td>9.0</td>\n",
       "      <td>0.0</td>\n",
       "      <td>46.0</td>\n",
       "      <td>2.9</td>\n",
       "      <td>8.4</td>\n",
       "      <td>0.00</td>\n",
       "      <td>86.6</td>\n",
       "      <td>-9.5</td>\n",
       "      <td>9.699769</td>\n",
       "      <td>0.000000</td>\n",
       "      <td>-1.066433</td>\n",
       "      <td>0</td>\n",
       "      <td>1</td>\n",
       "      <td>0</td>\n",
       "      <td>0</td>\n",
       "    </tr>\n",
       "    <tr>\n",
       "      <th>370</th>\n",
       "      <td>-6.2</td>\n",
       "      <td>-16.5</td>\n",
       "      <td>10.3</td>\n",
       "      <td>0.0</td>\n",
       "      <td>54.3</td>\n",
       "      <td>0.9</td>\n",
       "      <td>6.2</td>\n",
       "      <td>0.00</td>\n",
       "      <td>63.9</td>\n",
       "      <td>-10.8</td>\n",
       "      <td>9.702660</td>\n",
       "      <td>0.000000</td>\n",
       "      <td>-1.082263</td>\n",
       "      <td>0</td>\n",
       "      <td>1</td>\n",
       "      <td>0</td>\n",
       "      <td>0</td>\n",
       "    </tr>\n",
       "    <tr>\n",
       "      <th>...</th>\n",
       "      <td>...</td>\n",
       "      <td>...</td>\n",
       "      <td>...</td>\n",
       "      <td>...</td>\n",
       "      <td>...</td>\n",
       "      <td>...</td>\n",
       "      <td>...</td>\n",
       "      <td>...</td>\n",
       "      <td>...</td>\n",
       "      <td>...</td>\n",
       "      <td>...</td>\n",
       "      <td>...</td>\n",
       "      <td>...</td>\n",
       "      <td>...</td>\n",
       "      <td>...</td>\n",
       "      <td>...</td>\n",
       "      <td>...</td>\n",
       "    </tr>\n",
       "    <tr>\n",
       "      <th>23006</th>\n",
       "      <td>3.3</td>\n",
       "      <td>-7.3</td>\n",
       "      <td>10.6</td>\n",
       "      <td>0.0</td>\n",
       "      <td>69.8</td>\n",
       "      <td>1.8</td>\n",
       "      <td>8.8</td>\n",
       "      <td>10.25</td>\n",
       "      <td>91.7</td>\n",
       "      <td>-2.6</td>\n",
       "      <td>9.596510</td>\n",
       "      <td>1.164773</td>\n",
       "      <td>-0.928828</td>\n",
       "      <td>0</td>\n",
       "      <td>1</td>\n",
       "      <td>0</td>\n",
       "      <td>0</td>\n",
       "    </tr>\n",
       "    <tr>\n",
       "      <th>23007</th>\n",
       "      <td>0.1</td>\n",
       "      <td>-6.0</td>\n",
       "      <td>6.1</td>\n",
       "      <td>1.0</td>\n",
       "      <td>58.1</td>\n",
       "      <td>2.5</td>\n",
       "      <td>8.7</td>\n",
       "      <td>10.86</td>\n",
       "      <td>90.6</td>\n",
       "      <td>-3.3</td>\n",
       "      <td>9.602649</td>\n",
       "      <td>1.248276</td>\n",
       "      <td>-0.947047</td>\n",
       "      <td>0</td>\n",
       "      <td>1</td>\n",
       "      <td>0</td>\n",
       "      <td>0</td>\n",
       "    </tr>\n",
       "    <tr>\n",
       "      <th>23008</th>\n",
       "      <td>2.1</td>\n",
       "      <td>-7.8</td>\n",
       "      <td>9.9</td>\n",
       "      <td>0.0</td>\n",
       "      <td>56.3</td>\n",
       "      <td>1.7</td>\n",
       "      <td>9.0</td>\n",
       "      <td>10.88</td>\n",
       "      <td>93.8</td>\n",
       "      <td>-2.9</td>\n",
       "      <td>9.594883</td>\n",
       "      <td>1.208889</td>\n",
       "      <td>-0.964986</td>\n",
       "      <td>0</td>\n",
       "      <td>1</td>\n",
       "      <td>0</td>\n",
       "      <td>0</td>\n",
       "    </tr>\n",
       "    <tr>\n",
       "      <th>23009</th>\n",
       "      <td>2.3</td>\n",
       "      <td>-4.4</td>\n",
       "      <td>6.7</td>\n",
       "      <td>0.0</td>\n",
       "      <td>65.6</td>\n",
       "      <td>1.9</td>\n",
       "      <td>7.9</td>\n",
       "      <td>10.84</td>\n",
       "      <td>82.3</td>\n",
       "      <td>-1.8</td>\n",
       "      <td>9.599028</td>\n",
       "      <td>1.372152</td>\n",
       "      <td>-0.982638</td>\n",
       "      <td>0</td>\n",
       "      <td>1</td>\n",
       "      <td>0</td>\n",
       "      <td>0</td>\n",
       "    </tr>\n",
       "    <tr>\n",
       "      <th>23010</th>\n",
       "      <td>2.1</td>\n",
       "      <td>-5.1</td>\n",
       "      <td>7.2</td>\n",
       "      <td>0.0</td>\n",
       "      <td>65.5</td>\n",
       "      <td>1.4</td>\n",
       "      <td>1.1</td>\n",
       "      <td>4.16</td>\n",
       "      <td>11.5</td>\n",
       "      <td>-1.2</td>\n",
       "      <td>9.565217</td>\n",
       "      <td>3.781818</td>\n",
       "      <td>-1.000000</td>\n",
       "      <td>0</td>\n",
       "      <td>1</td>\n",
       "      <td>0</td>\n",
       "      <td>0</td>\n",
       "    </tr>\n",
       "  </tbody>\n",
       "</table>\n",
       "<p>22645 rows × 17 columns</p>\n",
       "</div>"
      ],
      "text/plain": [
       "       최고기온  최저기온   일교차  강수량  평균습도  평균풍속  일조합    일사합   일조율  평균기온       가조합  \\\n",
       "366    -4.9 -15.0  10.1  0.0  73.8   0.8  2.7   0.00  28.1  -9.8  9.608541   \n",
       "367     0.2 -12.3  12.5  0.0  72.3   1.4  4.9   0.00  51.0  -6.2  9.607843   \n",
       "368     0.3  -4.7   5.0  3.0  77.0   2.6  0.0   0.00   0.0  -1.1  9.653806   \n",
       "369    -4.7 -13.7   9.0  0.0  46.0   2.9  8.4   0.00  86.6  -9.5  9.699769   \n",
       "370    -6.2 -16.5  10.3  0.0  54.3   0.9  6.2   0.00  63.9 -10.8  9.702660   \n",
       "...     ...   ...   ...  ...   ...   ...  ...    ...   ...   ...       ...   \n",
       "23006   3.3  -7.3  10.6  0.0  69.8   1.8  8.8  10.25  91.7  -2.6  9.596510   \n",
       "23007   0.1  -6.0   6.1  1.0  58.1   2.5  8.7  10.86  90.6  -3.3  9.602649   \n",
       "23008   2.1  -7.8   9.9  0.0  56.3   1.7  9.0  10.88  93.8  -2.9  9.594883   \n",
       "23009   2.3  -4.4   6.7  0.0  65.6   1.9  7.9  10.84  82.3  -1.8  9.599028   \n",
       "23010   2.1  -5.1   7.2  0.0  65.5   1.4  1.1   4.16  11.5  -1.2  9.565217   \n",
       "\n",
       "          일사_일조   sin_cos  가을  겨울  봄  여름  \n",
       "366    0.000000 -1.017065   0   1  0   0  \n",
       "367    0.000000 -1.033829   0   1  0   0  \n",
       "368    0.000000 -1.050286   0   1  0   0  \n",
       "369    0.000000 -1.066433   0   1  0   0  \n",
       "370    0.000000 -1.082263   0   1  0   0  \n",
       "...         ...       ...  ..  .. ..  ..  \n",
       "23006  1.164773 -0.928828   0   1  0   0  \n",
       "23007  1.248276 -0.947047   0   1  0   0  \n",
       "23008  1.208889 -0.964986   0   1  0   0  \n",
       "23009  1.372152 -0.982638   0   1  0   0  \n",
       "23010  3.781818 -1.000000   0   1  0   0  \n",
       "\n",
       "[22645 rows x 17 columns]"
      ]
     },
     "execution_count": 208,
     "metadata": {},
     "output_type": "execute_result"
    }
   ],
   "source": [
    "train"
   ]
  },
  {
   "cell_type": "code",
   "execution_count": 209,
   "id": "b6747515-d7a8-4d22-9dd6-f9bf66716fc2",
   "metadata": {
    "tags": []
   },
   "outputs": [],
   "source": [
    "output_size = 358\n",
    "model = Model(data = train,\n",
    "     target = [\"평균기온\"],\n",
    "     input_size = output_size * 2,\n",
    "     output_size = output_size,\n",
    "     test_size = 0.3)\n",
    "train_in, train_out, test_in, test_out = model.Data"
   ]
  },
  {
   "cell_type": "code",
   "execution_count": 210,
   "id": "e198ed7b-1459-4d04-adb1-afd34f56aca5",
   "metadata": {},
   "outputs": [],
   "source": [
    "def LSTM_fit(data):\n",
    "    train_in, train_out, test_in, test_out = data\n",
    "    early_stopping = tf.keras.callbacks.EarlyStopping(monitor = 'val_loss',\n",
    "                                                      mode = 'min',\n",
    "                                                      patience = 5,\n",
    "                                                      min_delta = 0)\n",
    "   \n",
    "    lstm_model = tf.keras.Sequential()\n",
    "    lstm_model.add(tf.keras.layers.LSTM(128, return_sequences = True))\n",
    "    lstm_model.add(tf.keras.layers.LSTM(128, return_sequences = True))\n",
    "    lstm_model.add(tf.keras.layers.LSTM(128, return_sequences = False))\n",
    "    lstm_model.add(tf.keras.layers.Dense(output_size))\n",
    "   \n",
    "    lstm_model.compile(loss = tf.keras.losses.MeanAbsoluteError(),\n",
    "                      optimizer = tf.keras.optimizers.Adam(),\n",
    "                      metrics = [tf.keras.metrics.mean_absolute_error])\n",
    "    \n",
    "    history = lstm_model.fit(train_in, train_out,\n",
    "                             epochs = 100,\n",
    "                             validation_data = [test_in, test_out],\n",
    "                             callbacks = [early_stopping])\n",
    "    \n",
    "    return lstm_model, history"
   ]
  },
  {
   "cell_type": "code",
   "execution_count": null,
   "id": "83b9f9aa-92bc-4df8-9dca-dd19723cdb15",
   "metadata": {
    "tags": []
   },
   "outputs": [
    {
     "name": "stdout",
     "output_type": "stream",
     "text": [
      "Epoch 1/100\n",
      "540/540 [==============================] - 623s 1s/step - loss: 0.0760 - mean_absolute_error: 0.0760 - val_loss: 0.0575 - val_mean_absolute_error: 0.0575\n",
      "Epoch 2/100\n",
      "540/540 [==============================] - 614s 1s/step - loss: 0.0515 - mean_absolute_error: 0.0515 - val_loss: 0.0536 - val_mean_absolute_error: 0.0536\n",
      "Epoch 3/100\n",
      "540/540 [==============================] - 630s 1s/step - loss: 0.0511 - mean_absolute_error: 0.0511 - val_loss: 0.0526 - val_mean_absolute_error: 0.0526\n",
      "Epoch 4/100\n",
      "540/540 [==============================] - 631s 1s/step - loss: 0.0507 - mean_absolute_error: 0.0507 - val_loss: 0.0538 - val_mean_absolute_error: 0.0538\n",
      "Epoch 5/100\n",
      "540/540 [==============================] - 626s 1s/step - loss: 0.0503 - mean_absolute_error: 0.0503 - val_loss: 0.0526 - val_mean_absolute_error: 0.0526\n",
      "Epoch 6/100\n",
      "540/540 [==============================] - 631s 1s/step - loss: 0.0501 - mean_absolute_error: 0.0501 - val_loss: 0.0539 - val_mean_absolute_error: 0.0539\n",
      "Epoch 7/100\n",
      "540/540 [==============================] - 631s 1s/step - loss: 0.0497 - mean_absolute_error: 0.0497 - val_loss: 0.0526 - val_mean_absolute_error: 0.0526\n",
      "Epoch 8/100\n",
      "211/540 [==========>...................] - ETA: 5:54 - loss: 0.0494 - mean_absolute_error: 0.0494"
     ]
    }
   ],
   "source": [
    "lstm_model, history = LSTM_fit(model.Data)"
   ]
  },
  {
   "cell_type": "code",
   "execution_count": 207,
   "id": "aa9ef3a9-cf14-4054-9721-080ca4e6b019",
   "metadata": {
    "tags": []
   },
   "outputs": [
    {
     "ename": "ValueError",
     "evalue": "cannot reshape array of size 12410 into shape (1,730,13)",
     "output_type": "error",
     "traceback": [
      "\u001b[1;31m---------------------------------------------------------------------------\u001b[0m",
      "\u001b[1;31mValueError\u001b[0m                                Traceback (most recent call last)",
      "Cell \u001b[1;32mIn[207], line 3\u001b[0m\n\u001b[0;32m      1\u001b[0m _, _, test_in, _ \u001b[38;5;241m=\u001b[39m model\u001b[38;5;241m.\u001b[39mSplit(train)\n\u001b[0;32m      2\u001b[0m _, scaler_out \u001b[38;5;241m=\u001b[39m model\u001b[38;5;241m.\u001b[39mScale(train)\n\u001b[1;32m----> 3\u001b[0m pred \u001b[38;5;241m=\u001b[39m lstm_model\u001b[38;5;241m.\u001b[39mpredict(test_in[\u001b[38;5;241m-\u001b[39m\u001b[38;5;241m1\u001b[39m]\u001b[38;5;241m.\u001b[39mreshape(\u001b[38;5;241m1\u001b[39m, (\u001b[38;5;241m365\u001b[39m\u001b[38;5;241m*\u001b[39m\u001b[38;5;241m2\u001b[39m), \u001b[38;5;241m13\u001b[39m))\n\u001b[0;32m      4\u001b[0m pred \u001b[38;5;241m=\u001b[39m np\u001b[38;5;241m.\u001b[39mround(scaler\u001b[38;5;241m.\u001b[39minverse_transform(pred))\n",
      "\u001b[1;31mValueError\u001b[0m: cannot reshape array of size 12410 into shape (1,730,13)"
     ]
    }
   ],
   "source": [
    "_, _, test_in, _ = model.Split(train)\n",
    "_, scaler_out = model.Scale(train)\n",
    "pred = lstm_model.predict(test_in[-1].reshape(1, (output_size*2), 13))\n",
    "pred = np.round(scaler.inverse_transform(pred))"
   ]
  },
  {
   "cell_type": "code",
   "execution_count": null,
   "id": "ae7f5868-ea65-4d98-9f78-f25e8a93c0ca",
   "metadata": {},
   "outputs": [],
   "source": [
    "pred"
   ]
  },
  {
   "cell_type": "code",
   "execution_count": 182,
   "id": "b1a03707-ab2a-4934-a75b-0a2d8fe9d3d4",
   "metadata": {
    "tags": []
   },
   "outputs": [
    {
     "data": {
      "text/plain": [
       "2.693016759776536"
      ]
     },
     "execution_count": 182,
     "metadata": {},
     "output_type": "execute_result"
    }
   ],
   "source": [
    "from sklearn.metrics import mean_absolute_error\n",
    "mean_absolute_error(train.iloc[-output_size:].평균기온.values, pred.reshape(-1))"
   ]
  },
  {
   "cell_type": "code",
   "execution_count": null,
   "id": "32a8fc9d-76c2-447b-a288-18490252748a",
   "metadata": {},
   "outputs": [],
   "source": [
    "# LSTM\n",
    "\n",
    "# 1. 128, 128, 128 unit, out_put size = 358, input_size = 358 * 2  => 2.69"
   ]
  },
  {
   "cell_type": "code",
   "execution_count": 30,
   "id": "5782b43a-1e3d-4d99-b1e6-ca9471501d6b",
   "metadata": {},
   "outputs": [],
   "source": [
    "def GRU_fit(data):\n",
    "    train_in, train_out, test_in, test_out = data\n",
    "    early_stopping = tf.keras.callbacks.EarlyStopping(monitor = 'val_loss',\n",
    "                                                      mode = 'min',\n",
    "                                                      patience = 5,\n",
    "                                                      min_delta = 0)\n",
    "   \n",
    "    lstm_model = tf.keras.Sequential()\n",
    "    lstm_model.add(tf.keras.layers.LSTM(128, return_sequences = True))\n",
    "    lstm_model.add(tf.keras.layers.LSTM(128, return_sequences = True))\n",
    "    lstm_model.add(tf.keras.layers.LSTM(128, return_sequences = False))\n",
    "    lstm_model.add(tf.keras.layers.Dense(output_size))\n",
    "   \n",
    "    lstm_model.compile(loss = tf.keras.losses.MeanAbsoluteError(),\n",
    "                      optimizer = tf.keras.optimizers.Adam(),\n",
    "                      metrics = [tf.keras.metrics.mean_absolute_error])\n",
    "    \n",
    "    history = lstm_model.fit(train_in, train_out,\n",
    "                             epochs = 100,\n",
    "                             validation_data = [test_in, test_out],\n",
    "                             callbacks = [early_stopping])\n",
    "    \n",
    "    return lstm_model, history"
   ]
  },
  {
   "cell_type": "code",
   "execution_count": 31,
   "id": "6ab4786c-418a-48e7-8855-dcc664fe7afa",
   "metadata": {
    "tags": []
   },
   "outputs": [
    {
     "name": "stdout",
     "output_type": "stream",
     "text": [
      "Epoch 1/100\n",
      "540/540 [==============================] - 557s 1s/step - loss: 0.0732 - mean_absolute_error: 0.0732 - val_loss: 0.0582 - val_mean_absolute_error: 0.0582\n",
      "Epoch 2/100\n",
      "540/540 [==============================] - 559s 1s/step - loss: 0.0517 - mean_absolute_error: 0.0517 - val_loss: 0.0535 - val_mean_absolute_error: 0.0535\n",
      "Epoch 3/100\n",
      "540/540 [==============================] - 546s 1s/step - loss: 0.0511 - mean_absolute_error: 0.0511 - val_loss: 0.0539 - val_mean_absolute_error: 0.0539\n",
      "Epoch 4/100\n",
      "540/540 [==============================] - 595s 1s/step - loss: 0.0507 - mean_absolute_error: 0.0507 - val_loss: 0.0541 - val_mean_absolute_error: 0.0541\n",
      "Epoch 5/100\n",
      "540/540 [==============================] - 585s 1s/step - loss: 0.0505 - mean_absolute_error: 0.0505 - val_loss: 0.0534 - val_mean_absolute_error: 0.0534\n",
      "Epoch 6/100\n",
      "540/540 [==============================] - 564s 1s/step - loss: 0.0501 - mean_absolute_error: 0.0501 - val_loss: 0.0525 - val_mean_absolute_error: 0.0525\n",
      "Epoch 7/100\n",
      "540/540 [==============================] - 557s 1s/step - loss: 0.0498 - mean_absolute_error: 0.0498 - val_loss: 0.0522 - val_mean_absolute_error: 0.0522\n",
      "Epoch 8/100\n",
      "540/540 [==============================] - 574s 1s/step - loss: 0.0494 - mean_absolute_error: 0.0494 - val_loss: 0.0530 - val_mean_absolute_error: 0.0530\n",
      "Epoch 9/100\n",
      "540/540 [==============================] - 578s 1s/step - loss: 0.0491 - mean_absolute_error: 0.0491 - val_loss: 0.0544 - val_mean_absolute_error: 0.0544\n",
      "Epoch 10/100\n",
      "540/540 [==============================] - 565s 1s/step - loss: 0.0486 - mean_absolute_error: 0.0486 - val_loss: 0.0539 - val_mean_absolute_error: 0.0539\n",
      "Epoch 11/100\n",
      "540/540 [==============================] - 581s 1s/step - loss: 0.0481 - mean_absolute_error: 0.0481 - val_loss: 0.0537 - val_mean_absolute_error: 0.0537\n",
      "Epoch 12/100\n",
      "540/540 [==============================] - 571s 1s/step - loss: 0.0478 - mean_absolute_error: 0.0478 - val_loss: 0.0544 - val_mean_absolute_error: 0.0544\n"
     ]
    }
   ],
   "source": [
    "GRU_model, history = GRU_fit(model.Data)"
   ]
  },
  {
   "cell_type": "code",
   "execution_count": 184,
   "id": "cc4dd830-225b-4548-8fa4-694480b510c8",
   "metadata": {
    "tags": []
   },
   "outputs": [
    {
     "name": "stdout",
     "output_type": "stream",
     "text": [
      "1/1 [==============================] - 0s 176ms/step\n"
     ]
    },
    {
     "data": {
      "text/plain": [
       "2.787988826815643"
      ]
     },
     "execution_count": 184,
     "metadata": {},
     "output_type": "execute_result"
    }
   ],
   "source": [
    "_, _, test_in, _ = model.Split(train)\n",
    "_, scaler_out = model.Scale(train)\n",
    "pred = GRU_model.predict(test_in[-1].reshape(1, (output_size*2), 13))\n",
    "pred = np.round(scaler.inverse_transform(pred))\n",
    "mean_absolute_error(train.iloc[-output_size:].평균기온.values, pred.reshape(-1))"
   ]
  },
  {
   "cell_type": "code",
   "execution_count": null,
   "id": "a5b0af51-be23-4caa-8a44-d7420b03aa1c",
   "metadata": {},
   "outputs": [],
   "source": [
    "# GRU\n",
    "\n",
    "# 1. 128, 128, 128 unit, out_put size = 358, input_size = 358 * 2  => 2.78"
   ]
  },
  {
   "cell_type": "code",
   "execution_count": null,
   "id": "c4f4414b-b9c3-46df-8865-6d7b63ba871b",
   "metadata": {},
   "outputs": [],
   "source": [
    "sub = pd.read_csv(\"data/sample_submission.csv\")\n",
    "scale_data, scaler_in, scaler_out = model.Scale(train)\n",
    "pred = GRU_model.predict(scale_data[-(output_size*2):].values.reshape(1, (output_size*2), 13))\n",
    "pred = np.round(scaler.inverse_transform(pred))\n",
    "sub.평균기온 = pred[0]\n",
    "sub.to_csv(\"data/GRU_128_128_128.csv\", index = False)"
   ]
  }
 ],
 "metadata": {
  "kernelspec": {
   "display_name": "Python 3 (ipykernel)",
   "language": "python",
   "name": "python3"
  },
  "language_info": {
   "codemirror_mode": {
    "name": "ipython",
    "version": 3
   },
   "file_extension": ".py",
   "mimetype": "text/x-python",
   "name": "python",
   "nbconvert_exporter": "python",
   "pygments_lexer": "ipython3",
   "version": "3.11.5"
  }
 },
 "nbformat": 4,
 "nbformat_minor": 5
}
