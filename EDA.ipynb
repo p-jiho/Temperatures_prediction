{
 "cells": [
  {
   "cell_type": "code",
   "execution_count": 1,
   "id": "5440834c-934f-47ca-88c8-e076171d441e",
   "metadata": {},
   "outputs": [],
   "source": [
    "import pandas as pd\n",
    "import matplotlib.pyplot as plt\n",
    "import numpy as np"
   ]
  },
  {
   "cell_type": "code",
   "execution_count": 102,
   "id": "2588a7b4-20c5-465e-b414-a569f643a098",
   "metadata": {},
   "outputs": [],
   "source": [
    "train = pd.read_csv(\"data/train.csv\")"
   ]
  },
  {
   "cell_type": "code",
   "execution_count": 3,
   "id": "1247494f-04a8-4358-abdd-bad47cabf9d4",
   "metadata": {},
   "outputs": [
    {
     "name": "stdout",
     "output_type": "stream",
     "text": [
      "<class 'pandas.core.frame.DataFrame'>\n",
      "RangeIndex: 23011 entries, 0 to 23010\n",
      "Data columns (total 11 columns):\n",
      " #   Column  Non-Null Count  Dtype  \n",
      "---  ------  --------------  -----  \n",
      " 0   일시      23011 non-null  object \n",
      " 1   최고기온    23008 non-null  float64\n",
      " 2   최저기온    23008 non-null  float64\n",
      " 3   일교차     23007 non-null  float64\n",
      " 4   강수량     9150 non-null   float64\n",
      " 5   평균습도    23011 non-null  float64\n",
      " 6   평균풍속    23007 non-null  float64\n",
      " 7   일조합     22893 non-null  float64\n",
      " 8   일사합     18149 non-null  float64\n",
      " 9   일조율     22645 non-null  float64\n",
      " 10  평균기온    23011 non-null  float64\n",
      "dtypes: float64(10), object(1)\n",
      "memory usage: 1.9+ MB\n"
     ]
    }
   ],
   "source": [
    "train.info()"
   ]
  },
  {
   "cell_type": "markdown",
   "id": "ab5b5da6-debc-43f1-a414-e26fcc2f92d8",
   "metadata": {},
   "source": [
    "- 일사합: 일사량(태양의 복사 에너지가 땅에 닿는 양)의 합계\n",
    "- 일조합 : 일사시간(구름이나 안개 따위에 가려지지 아니하고 햇볕이 실제로 내리쬐는 시간)의 합계\n",
    "- 일조율 : 일조시간/가조시간\n",
    "- 가조시간 :  태양의 중심이 지평선으로 올라와서 다시 지평선으로 질 때까지의 시간 길이"
   ]
  },
  {
   "cell_type": "markdown",
   "id": "b0343d7c-0a3f-439e-b5c6-b955256841eb",
   "metadata": {},
   "source": [
    "# EDA\n",
    "## 1.  NA 값이 존재\n",
    "- 최고, 최저기온 : 결측치들의 공통점이 보이지 않음 -> 데이터 누락값 -> 앞뒤의 값을 보고 보간 진행\n",
    "- 강수량 : NA값을 모두 지우고 봤을 때 강수량이 0인 날이 꽤 많아보임 -> NA인 값은 강수량을 0으로 설정하는 게 좋을 것 같음\n",
    "- 일교차 : 최고, 최저 기온이 없는 경우이므로 최고, 최저기온 보간 후 채워넣을 예정\n",
    "- 평균풍속 : NA가 많지 않고, 결측치들의 공통점이 보이지 않음 -> 앞뒤의 값을 보고 보간 진행\n",
    "- 일조합 : 동일하게 보간 진행\n",
    "- 일사합 : 1960년부터 1972년, 1973년 2,3,4월까지 값이 없고, 그 이후에는 39개의 결측치가 있음 -> 너무 과거의 값이라서 제거하고 진행하거나 1973년 이전의 데이터를 제거하거나 0으로 설정하고, 그 이후의 데이터는 보간 진행\n",
    "- 일조율 : 결측치가 전부 1960년에 있음 -> 데이터를 삭제해도 될 것 같음 -> 일조합으로 일조율을 추정하기에는 가조시간에 대한 정보가 없음"
   ]
  },
  {
   "cell_type": "markdown",
   "id": "76e8d633-581b-47cb-bb24-9ac2240d5281",
   "metadata": {},
   "source": [
    "#### 일교차 및 최고, 최저 기온"
   ]
  },
  {
   "cell_type": "code",
   "execution_count": 103,
   "id": "a7b866e7-63d3-4f31-b574-24cfb257918f",
   "metadata": {},
   "outputs": [
    {
     "data": {
      "text/html": [
       "<div>\n",
       "<style scoped>\n",
       "    .dataframe tbody tr th:only-of-type {\n",
       "        vertical-align: middle;\n",
       "    }\n",
       "\n",
       "    .dataframe tbody tr th {\n",
       "        vertical-align: top;\n",
       "    }\n",
       "\n",
       "    .dataframe thead th {\n",
       "        text-align: right;\n",
       "    }\n",
       "</style>\n",
       "<table border=\"1\" class=\"dataframe\">\n",
       "  <thead>\n",
       "    <tr style=\"text-align: right;\">\n",
       "      <th></th>\n",
       "      <th>일시</th>\n",
       "      <th>최고기온</th>\n",
       "      <th>최저기온</th>\n",
       "      <th>일교차</th>\n",
       "      <th>강수량</th>\n",
       "      <th>평균습도</th>\n",
       "      <th>평균풍속</th>\n",
       "      <th>일조합</th>\n",
       "      <th>일사합</th>\n",
       "      <th>일조율</th>\n",
       "      <th>평균기온</th>\n",
       "    </tr>\n",
       "  </thead>\n",
       "  <tbody>\n",
       "    <tr>\n",
       "      <th>2606</th>\n",
       "      <td>1967-02-19</td>\n",
       "      <td>NaN</td>\n",
       "      <td>NaN</td>\n",
       "      <td>NaN</td>\n",
       "      <td>NaN</td>\n",
       "      <td>62.0</td>\n",
       "      <td>1.8</td>\n",
       "      <td>9.5</td>\n",
       "      <td>NaN</td>\n",
       "      <td>93.1</td>\n",
       "      <td>-1.7</td>\n",
       "    </tr>\n",
       "    <tr>\n",
       "      <th>5037</th>\n",
       "      <td>1973-10-16</td>\n",
       "      <td>NaN</td>\n",
       "      <td>NaN</td>\n",
       "      <td>NaN</td>\n",
       "      <td>0.4</td>\n",
       "      <td>74.0</td>\n",
       "      <td>1.8</td>\n",
       "      <td>3.5</td>\n",
       "      <td>9.24</td>\n",
       "      <td>29.7</td>\n",
       "      <td>12.3</td>\n",
       "    </tr>\n",
       "    <tr>\n",
       "      <th>21104</th>\n",
       "      <td>2017-10-12</td>\n",
       "      <td>NaN</td>\n",
       "      <td>8.8</td>\n",
       "      <td>NaN</td>\n",
       "      <td>NaN</td>\n",
       "      <td>71.0</td>\n",
       "      <td>2.0</td>\n",
       "      <td>NaN</td>\n",
       "      <td>2.23</td>\n",
       "      <td>0.0</td>\n",
       "      <td>11.4</td>\n",
       "    </tr>\n",
       "    <tr>\n",
       "      <th>22865</th>\n",
       "      <td>2022-08-08</td>\n",
       "      <td>28.4</td>\n",
       "      <td>NaN</td>\n",
       "      <td>NaN</td>\n",
       "      <td>129.6</td>\n",
       "      <td>91.6</td>\n",
       "      <td>3.3</td>\n",
       "      <td>NaN</td>\n",
       "      <td>NaN</td>\n",
       "      <td>0.0</td>\n",
       "      <td>26.8</td>\n",
       "    </tr>\n",
       "  </tbody>\n",
       "</table>\n",
       "</div>"
      ],
      "text/plain": [
       "               일시  최고기온  최저기온  일교차    강수량  평균습도  평균풍속  일조합   일사합   일조율  평균기온\n",
       "2606   1967-02-19   NaN   NaN  NaN    NaN  62.0   1.8  9.5   NaN  93.1  -1.7\n",
       "5037   1973-10-16   NaN   NaN  NaN    0.4  74.0   1.8  3.5  9.24  29.7  12.3\n",
       "21104  2017-10-12   NaN   8.8  NaN    NaN  71.0   2.0  NaN  2.23   0.0  11.4\n",
       "22865  2022-08-08  28.4   NaN  NaN  129.6  91.6   3.3  NaN   NaN   0.0  26.8"
      ]
     },
     "execution_count": 103,
     "metadata": {},
     "output_type": "execute_result"
    }
   ],
   "source": [
    "train[train.일교차.isna()]"
   ]
  },
  {
   "cell_type": "markdown",
   "id": "9d1a2378-9264-4aa9-90bb-53c7869fe839",
   "metadata": {},
   "source": [
    "#### 강수량"
   ]
  },
  {
   "cell_type": "code",
   "execution_count": 104,
   "id": "20cfc977-911c-4079-b2ea-f51e3ff53fd2",
   "metadata": {},
   "outputs": [
    {
     "data": {
      "text/plain": [
       "{'whiskers': [<matplotlib.lines.Line2D at 0x26463ffb820>,\n",
       "  <matplotlib.lines.Line2D at 0x26463ffbaf0>],\n",
       " 'caps': [<matplotlib.lines.Line2D at 0x26463ffbdc0>,\n",
       "  <matplotlib.lines.Line2D at 0x2646400a0d0>],\n",
       " 'boxes': [<matplotlib.lines.Line2D at 0x26463ffb550>],\n",
       " 'medians': [<matplotlib.lines.Line2D at 0x2646400a3a0>],\n",
       " 'fliers': [<matplotlib.lines.Line2D at 0x2646400a670>],\n",
       " 'means': []}"
      ]
     },
     "execution_count": 104,
     "metadata": {},
     "output_type": "execute_result"
    },
    {
     "data": {
      "image/png": "[encoded data removed]",
      "text/plain": [
       "<Figure size 640x480 with 1 Axes>"
      ]
     },
     "metadata": {},
     "output_type": "display_data"
    }
   ],
   "source": [
    "plt.boxplot(train.강수량.dropna())"
   ]
  },
  {
   "cell_type": "code",
   "execution_count": 105,
   "id": "046c1e34-778a-49fd-9999-8fd22a1495d7",
   "metadata": {},
   "outputs": [
    {
     "data": {
      "text/plain": [
       "[<matplotlib.lines.Line2D at 0x2646418d4f0>]"
      ]
     },
     "execution_count": 105,
     "metadata": {},
     "output_type": "execute_result"
    },
    {
     "data": {
      "image/png": "[encoded data removed]",
      "text/plain": [
       "<Figure size 640x480 with 1 Axes>"
      ]
     },
     "metadata": {},
     "output_type": "display_data"
    }
   ],
   "source": [
    "plt.plot(train.강수량.dropna())"
   ]
  },
  {
   "cell_type": "code",
   "execution_count": 106,
   "id": "65935f7b-90fb-4b89-9d9e-a207f065e180",
   "metadata": {},
   "outputs": [
    {
     "data": {
      "text/plain": [
       "[<matplotlib.lines.Line2D at 0x26464021880>]"
      ]
     },
     "execution_count": 106,
     "metadata": {},
     "output_type": "execute_result"
    },
    {
     "data": {
      "image/png": "[encoded data removed]",
      "text/plain": [
       "<Figure size 640x480 with 1 Axes>"
      ]
     },
     "metadata": {},
     "output_type": "display_data"
    }
   ],
   "source": [
    "plt.plot(train.강수량.fillna(0))"
   ]
  },
  {
   "cell_type": "markdown",
   "id": "362abe77-f890-481e-9a9b-b0aeece28fdf",
   "metadata": {},
   "source": [
    "#### 평균풍속"
   ]
  },
  {
   "cell_type": "code",
   "execution_count": 107,
   "id": "6f28a3ba-440b-4bf2-a944-c7395f9c0e90",
   "metadata": {},
   "outputs": [
    {
     "data": {
      "text/html": [
       "<div>\n",
       "<style scoped>\n",
       "    .dataframe tbody tr th:only-of-type {\n",
       "        vertical-align: middle;\n",
       "    }\n",
       "\n",
       "    .dataframe tbody tr th {\n",
       "        vertical-align: top;\n",
       "    }\n",
       "\n",
       "    .dataframe thead th {\n",
       "        text-align: right;\n",
       "    }\n",
       "</style>\n",
       "<table border=\"1\" class=\"dataframe\">\n",
       "  <thead>\n",
       "    <tr style=\"text-align: right;\">\n",
       "      <th></th>\n",
       "      <th>일시</th>\n",
       "      <th>최고기온</th>\n",
       "      <th>최저기온</th>\n",
       "      <th>일교차</th>\n",
       "      <th>강수량</th>\n",
       "      <th>평균습도</th>\n",
       "      <th>평균풍속</th>\n",
       "      <th>일조합</th>\n",
       "      <th>일사합</th>\n",
       "      <th>일조율</th>\n",
       "      <th>평균기온</th>\n",
       "    </tr>\n",
       "  </thead>\n",
       "  <tbody>\n",
       "    <tr>\n",
       "      <th>8597</th>\n",
       "      <td>1983-07-16</td>\n",
       "      <td>26.5</td>\n",
       "      <td>21.3</td>\n",
       "      <td>5.2</td>\n",
       "      <td>3.9</td>\n",
       "      <td>79.5</td>\n",
       "      <td>NaN</td>\n",
       "      <td>2.2</td>\n",
       "      <td>8.02</td>\n",
       "      <td>15.2</td>\n",
       "      <td>24.2</td>\n",
       "    </tr>\n",
       "    <tr>\n",
       "      <th>21106</th>\n",
       "      <td>2017-10-14</td>\n",
       "      <td>20.5</td>\n",
       "      <td>9.0</td>\n",
       "      <td>11.5</td>\n",
       "      <td>NaN</td>\n",
       "      <td>42.8</td>\n",
       "      <td>NaN</td>\n",
       "      <td>10.6</td>\n",
       "      <td>10.58</td>\n",
       "      <td>93.8</td>\n",
       "      <td>14.4</td>\n",
       "    </tr>\n",
       "    <tr>\n",
       "      <th>21158</th>\n",
       "      <td>2017-12-05</td>\n",
       "      <td>-0.4</td>\n",
       "      <td>-8.2</td>\n",
       "      <td>7.8</td>\n",
       "      <td>0.1</td>\n",
       "      <td>40.1</td>\n",
       "      <td>NaN</td>\n",
       "      <td>2.1</td>\n",
       "      <td>0.86</td>\n",
       "      <td>21.6</td>\n",
       "      <td>-4.2</td>\n",
       "    </tr>\n",
       "    <tr>\n",
       "      <th>21159</th>\n",
       "      <td>2017-12-06</td>\n",
       "      <td>6.0</td>\n",
       "      <td>-4.5</td>\n",
       "      <td>10.5</td>\n",
       "      <td>1.2</td>\n",
       "      <td>72.6</td>\n",
       "      <td>NaN</td>\n",
       "      <td>7.7</td>\n",
       "      <td>6.14</td>\n",
       "      <td>79.4</td>\n",
       "      <td>0.2</td>\n",
       "    </tr>\n",
       "  </tbody>\n",
       "</table>\n",
       "</div>"
      ],
      "text/plain": [
       "               일시  최고기온  최저기온   일교차  강수량  평균습도  평균풍속   일조합    일사합   일조율  평균기온\n",
       "8597   1983-07-16  26.5  21.3   5.2  3.9  79.5   NaN   2.2   8.02  15.2  24.2\n",
       "21106  2017-10-14  20.5   9.0  11.5  NaN  42.8   NaN  10.6  10.58  93.8  14.4\n",
       "21158  2017-12-05  -0.4  -8.2   7.8  0.1  40.1   NaN   2.1   0.86  21.6  -4.2\n",
       "21159  2017-12-06   6.0  -4.5  10.5  1.2  72.6   NaN   7.7   6.14  79.4   0.2"
      ]
     },
     "execution_count": 107,
     "metadata": {},
     "output_type": "execute_result"
    }
   ],
   "source": [
    "train[train.평균풍속.isna()]"
   ]
  },
  {
   "cell_type": "code",
   "execution_count": 108,
   "id": "c3364543-bdf0-448f-b178-42ff905e40fa",
   "metadata": {},
   "outputs": [
    {
     "data": {
      "text/plain": [
       "{'whiskers': [<matplotlib.lines.Line2D at 0x26464076f10>,\n",
       "  <matplotlib.lines.Line2D at 0x26464086220>],\n",
       " 'caps': [<matplotlib.lines.Line2D at 0x264640864f0>,\n",
       "  <matplotlib.lines.Line2D at 0x264640867c0>],\n",
       " 'boxes': [<matplotlib.lines.Line2D at 0x26464076c10>],\n",
       " 'medians': [<matplotlib.lines.Line2D at 0x26464086a90>],\n",
       " 'fliers': [<matplotlib.lines.Line2D at 0x26464086d60>],\n",
       " 'means': []}"
      ]
     },
     "execution_count": 108,
     "metadata": {},
     "output_type": "execute_result"
    },
    {
     "data": {
      "image/png": "[encoded data removed]",
      "text/plain": [
       "<Figure size 640x480 with 1 Axes>"
      ]
     },
     "metadata": {},
     "output_type": "display_data"
    }
   ],
   "source": [
    "plt.boxplot(train.평균풍속.dropna())"
   ]
  },
  {
   "cell_type": "code",
   "execution_count": 109,
   "id": "b61295cb-a75a-4bf1-8a54-85b92a009ec9",
   "metadata": {},
   "outputs": [
    {
     "data": {
      "text/plain": [
       "[<matplotlib.lines.Line2D at 0x264640e0c10>]"
      ]
     },
     "execution_count": 109,
     "metadata": {},
     "output_type": "execute_result"
    },
    {
     "data": {
      "image/png": "[encoded data removed]",
      "text/plain": [
       "<Figure size 640x480 with 1 Axes>"
      ]
     },
     "metadata": {},
     "output_type": "display_data"
    }
   ],
   "source": [
    "plt.plot(train.평균풍속.dropna())"
   ]
  },
  {
   "cell_type": "markdown",
   "id": "0ab5e20b-7341-4b1d-a85a-95002ea33f94",
   "metadata": {},
   "source": [
    "#### 일조합"
   ]
  },
  {
   "cell_type": "code",
   "execution_count": 110,
   "id": "510521dc-1114-4396-b9ef-68cf858e488a",
   "metadata": {},
   "outputs": [
    {
     "data": {
      "text/html": [
       "<div>\n",
       "<style scoped>\n",
       "    .dataframe tbody tr th:only-of-type {\n",
       "        vertical-align: middle;\n",
       "    }\n",
       "\n",
       "    .dataframe tbody tr th {\n",
       "        vertical-align: top;\n",
       "    }\n",
       "\n",
       "    .dataframe thead th {\n",
       "        text-align: right;\n",
       "    }\n",
       "</style>\n",
       "<table border=\"1\" class=\"dataframe\">\n",
       "  <thead>\n",
       "    <tr style=\"text-align: right;\">\n",
       "      <th></th>\n",
       "      <th>일시</th>\n",
       "      <th>최고기온</th>\n",
       "      <th>최저기온</th>\n",
       "      <th>일교차</th>\n",
       "      <th>강수량</th>\n",
       "      <th>평균습도</th>\n",
       "      <th>평균풍속</th>\n",
       "      <th>일조합</th>\n",
       "      <th>일사합</th>\n",
       "      <th>일조율</th>\n",
       "      <th>평균기온</th>\n",
       "    </tr>\n",
       "  </thead>\n",
       "  <tbody>\n",
       "    <tr>\n",
       "      <th>1870</th>\n",
       "      <td>1965-02-13</td>\n",
       "      <td>5.4</td>\n",
       "      <td>0.4</td>\n",
       "      <td>5.0</td>\n",
       "      <td>1.6</td>\n",
       "      <td>81.0</td>\n",
       "      <td>2.8</td>\n",
       "      <td>NaN</td>\n",
       "      <td>NaN</td>\n",
       "      <td>0.0</td>\n",
       "      <td>2.1</td>\n",
       "    </tr>\n",
       "    <tr>\n",
       "      <th>1891</th>\n",
       "      <td>1965-03-06</td>\n",
       "      <td>0.2</td>\n",
       "      <td>-5.6</td>\n",
       "      <td>5.8</td>\n",
       "      <td>0.6</td>\n",
       "      <td>77.8</td>\n",
       "      <td>1.9</td>\n",
       "      <td>NaN</td>\n",
       "      <td>NaN</td>\n",
       "      <td>0.0</td>\n",
       "      <td>-2.6</td>\n",
       "    </tr>\n",
       "    <tr>\n",
       "      <th>1900</th>\n",
       "      <td>1965-03-15</td>\n",
       "      <td>11.4</td>\n",
       "      <td>0.8</td>\n",
       "      <td>10.6</td>\n",
       "      <td>10.5</td>\n",
       "      <td>88.0</td>\n",
       "      <td>3.3</td>\n",
       "      <td>NaN</td>\n",
       "      <td>NaN</td>\n",
       "      <td>0.0</td>\n",
       "      <td>5.2</td>\n",
       "    </tr>\n",
       "    <tr>\n",
       "      <th>1901</th>\n",
       "      <td>1965-03-16</td>\n",
       "      <td>3.4</td>\n",
       "      <td>0.3</td>\n",
       "      <td>3.1</td>\n",
       "      <td>3.3</td>\n",
       "      <td>89.8</td>\n",
       "      <td>2.2</td>\n",
       "      <td>NaN</td>\n",
       "      <td>NaN</td>\n",
       "      <td>0.0</td>\n",
       "      <td>1.6</td>\n",
       "    </tr>\n",
       "    <tr>\n",
       "      <th>1935</th>\n",
       "      <td>1965-04-19</td>\n",
       "      <td>10.0</td>\n",
       "      <td>6.8</td>\n",
       "      <td>3.2</td>\n",
       "      <td>2.5</td>\n",
       "      <td>78.8</td>\n",
       "      <td>3.5</td>\n",
       "      <td>NaN</td>\n",
       "      <td>NaN</td>\n",
       "      <td>0.0</td>\n",
       "      <td>8.5</td>\n",
       "    </tr>\n",
       "    <tr>\n",
       "      <th>...</th>\n",
       "      <td>...</td>\n",
       "      <td>...</td>\n",
       "      <td>...</td>\n",
       "      <td>...</td>\n",
       "      <td>...</td>\n",
       "      <td>...</td>\n",
       "      <td>...</td>\n",
       "      <td>...</td>\n",
       "      <td>...</td>\n",
       "      <td>...</td>\n",
       "      <td>...</td>\n",
       "    </tr>\n",
       "    <tr>\n",
       "      <th>21230</th>\n",
       "      <td>2018-02-15</td>\n",
       "      <td>4.0</td>\n",
       "      <td>-3.7</td>\n",
       "      <td>7.7</td>\n",
       "      <td>NaN</td>\n",
       "      <td>28.0</td>\n",
       "      <td>2.5</td>\n",
       "      <td>NaN</td>\n",
       "      <td>NaN</td>\n",
       "      <td>0.0</td>\n",
       "      <td>-0.7</td>\n",
       "    </tr>\n",
       "    <tr>\n",
       "      <th>21372</th>\n",
       "      <td>2018-07-07</td>\n",
       "      <td>29.2</td>\n",
       "      <td>19.5</td>\n",
       "      <td>9.7</td>\n",
       "      <td>NaN</td>\n",
       "      <td>51.4</td>\n",
       "      <td>1.6</td>\n",
       "      <td>NaN</td>\n",
       "      <td>27.32</td>\n",
       "      <td>0.0</td>\n",
       "      <td>23.7</td>\n",
       "    </tr>\n",
       "    <tr>\n",
       "      <th>21789</th>\n",
       "      <td>2019-08-28</td>\n",
       "      <td>30.2</td>\n",
       "      <td>23.6</td>\n",
       "      <td>6.6</td>\n",
       "      <td>NaN</td>\n",
       "      <td>66.2</td>\n",
       "      <td>1.9</td>\n",
       "      <td>NaN</td>\n",
       "      <td>NaN</td>\n",
       "      <td>0.0</td>\n",
       "      <td>26.1</td>\n",
       "    </tr>\n",
       "    <tr>\n",
       "      <th>22287</th>\n",
       "      <td>2021-01-07</td>\n",
       "      <td>-8.4</td>\n",
       "      <td>-16.5</td>\n",
       "      <td>8.1</td>\n",
       "      <td>NaN</td>\n",
       "      <td>49.9</td>\n",
       "      <td>4.1</td>\n",
       "      <td>NaN</td>\n",
       "      <td>NaN</td>\n",
       "      <td>0.0</td>\n",
       "      <td>-14.5</td>\n",
       "    </tr>\n",
       "    <tr>\n",
       "      <th>22865</th>\n",
       "      <td>2022-08-08</td>\n",
       "      <td>28.4</td>\n",
       "      <td>NaN</td>\n",
       "      <td>NaN</td>\n",
       "      <td>129.6</td>\n",
       "      <td>91.6</td>\n",
       "      <td>3.3</td>\n",
       "      <td>NaN</td>\n",
       "      <td>NaN</td>\n",
       "      <td>0.0</td>\n",
       "      <td>26.8</td>\n",
       "    </tr>\n",
       "  </tbody>\n",
       "</table>\n",
       "<p>118 rows × 11 columns</p>\n",
       "</div>"
      ],
      "text/plain": [
       "               일시  최고기온  최저기온   일교차    강수량  평균습도  평균풍속  일조합    일사합  일조율  평균기온\n",
       "1870   1965-02-13   5.4   0.4   5.0    1.6  81.0   2.8  NaN    NaN  0.0   2.1\n",
       "1891   1965-03-06   0.2  -5.6   5.8    0.6  77.8   1.9  NaN    NaN  0.0  -2.6\n",
       "1900   1965-03-15  11.4   0.8  10.6   10.5  88.0   3.3  NaN    NaN  0.0   5.2\n",
       "1901   1965-03-16   3.4   0.3   3.1    3.3  89.8   2.2  NaN    NaN  0.0   1.6\n",
       "1935   1965-04-19  10.0   6.8   3.2    2.5  78.8   3.5  NaN    NaN  0.0   8.5\n",
       "...           ...   ...   ...   ...    ...   ...   ...  ...    ...  ...   ...\n",
       "21230  2018-02-15   4.0  -3.7   7.7    NaN  28.0   2.5  NaN    NaN  0.0  -0.7\n",
       "21372  2018-07-07  29.2  19.5   9.7    NaN  51.4   1.6  NaN  27.32  0.0  23.7\n",
       "21789  2019-08-28  30.2  23.6   6.6    NaN  66.2   1.9  NaN    NaN  0.0  26.1\n",
       "22287  2021-01-07  -8.4 -16.5   8.1    NaN  49.9   4.1  NaN    NaN  0.0 -14.5\n",
       "22865  2022-08-08  28.4   NaN   NaN  129.6  91.6   3.3  NaN    NaN  0.0  26.8\n",
       "\n",
       "[118 rows x 11 columns]"
      ]
     },
     "execution_count": 110,
     "metadata": {},
     "output_type": "execute_result"
    }
   ],
   "source": [
    "train[train.일조합.isna()]"
   ]
  },
  {
   "cell_type": "code",
   "execution_count": 111,
   "id": "9d83a16a-a8d9-4d33-949c-6db0e0699a83",
   "metadata": {},
   "outputs": [
    {
     "data": {
      "text/plain": [
       "[<matplotlib.lines.Line2D at 0x2646414ac70>]"
      ]
     },
     "execution_count": 111,
     "metadata": {},
     "output_type": "execute_result"
    },
    {
     "data": {
      "image/png": "[encoded data removed]",
      "text/plain": [
       "<Figure size 640x480 with 1 Axes>"
      ]
     },
     "metadata": {},
     "output_type": "display_data"
    }
   ],
   "source": [
    "plt.plot(train.일조합.dropna())"
   ]
  },
  {
   "cell_type": "markdown",
   "id": "37143444-43f3-4448-be8d-22063ef69ddf",
   "metadata": {},
   "source": [
    "#### 일사합"
   ]
  },
  {
   "cell_type": "code",
   "execution_count": 112,
   "id": "07fa384f-911a-4c41-b224-008620148a39",
   "metadata": {},
   "outputs": [
    {
     "data": {
      "text/html": [
       "<div>\n",
       "<style scoped>\n",
       "    .dataframe tbody tr th:only-of-type {\n",
       "        vertical-align: middle;\n",
       "    }\n",
       "\n",
       "    .dataframe tbody tr th {\n",
       "        vertical-align: top;\n",
       "    }\n",
       "\n",
       "    .dataframe thead th {\n",
       "        text-align: right;\n",
       "    }\n",
       "</style>\n",
       "<table border=\"1\" class=\"dataframe\">\n",
       "  <thead>\n",
       "    <tr style=\"text-align: right;\">\n",
       "      <th></th>\n",
       "      <th>일시</th>\n",
       "      <th>최고기온</th>\n",
       "      <th>최저기온</th>\n",
       "      <th>일교차</th>\n",
       "      <th>강수량</th>\n",
       "      <th>평균습도</th>\n",
       "      <th>평균풍속</th>\n",
       "      <th>일조합</th>\n",
       "      <th>일사합</th>\n",
       "      <th>일조율</th>\n",
       "      <th>평균기온</th>\n",
       "    </tr>\n",
       "  </thead>\n",
       "  <tbody>\n",
       "    <tr>\n",
       "      <th>0</th>\n",
       "      <td>1960-01-01</td>\n",
       "      <td>2.2</td>\n",
       "      <td>-5.2</td>\n",
       "      <td>7.4</td>\n",
       "      <td>NaN</td>\n",
       "      <td>68.3</td>\n",
       "      <td>1.7</td>\n",
       "      <td>6.7</td>\n",
       "      <td>NaN</td>\n",
       "      <td>NaN</td>\n",
       "      <td>-1.6</td>\n",
       "    </tr>\n",
       "    <tr>\n",
       "      <th>1</th>\n",
       "      <td>1960-01-02</td>\n",
       "      <td>1.2</td>\n",
       "      <td>-5.6</td>\n",
       "      <td>6.8</td>\n",
       "      <td>0.4</td>\n",
       "      <td>87.7</td>\n",
       "      <td>1.3</td>\n",
       "      <td>0.0</td>\n",
       "      <td>NaN</td>\n",
       "      <td>NaN</td>\n",
       "      <td>-1.9</td>\n",
       "    </tr>\n",
       "    <tr>\n",
       "      <th>2</th>\n",
       "      <td>1960-01-03</td>\n",
       "      <td>8.7</td>\n",
       "      <td>-2.1</td>\n",
       "      <td>10.8</td>\n",
       "      <td>0.0</td>\n",
       "      <td>81.3</td>\n",
       "      <td>3.0</td>\n",
       "      <td>0.0</td>\n",
       "      <td>NaN</td>\n",
       "      <td>NaN</td>\n",
       "      <td>4.0</td>\n",
       "    </tr>\n",
       "    <tr>\n",
       "      <th>3</th>\n",
       "      <td>1960-01-04</td>\n",
       "      <td>10.8</td>\n",
       "      <td>1.2</td>\n",
       "      <td>9.6</td>\n",
       "      <td>0.0</td>\n",
       "      <td>79.7</td>\n",
       "      <td>4.4</td>\n",
       "      <td>2.6</td>\n",
       "      <td>NaN</td>\n",
       "      <td>NaN</td>\n",
       "      <td>7.5</td>\n",
       "    </tr>\n",
       "    <tr>\n",
       "      <th>4</th>\n",
       "      <td>1960-01-05</td>\n",
       "      <td>1.3</td>\n",
       "      <td>-8.2</td>\n",
       "      <td>9.5</td>\n",
       "      <td>NaN</td>\n",
       "      <td>44.0</td>\n",
       "      <td>5.1</td>\n",
       "      <td>8.2</td>\n",
       "      <td>NaN</td>\n",
       "      <td>NaN</td>\n",
       "      <td>-4.6</td>\n",
       "    </tr>\n",
       "    <tr>\n",
       "      <th>...</th>\n",
       "      <td>...</td>\n",
       "      <td>...</td>\n",
       "      <td>...</td>\n",
       "      <td>...</td>\n",
       "      <td>...</td>\n",
       "      <td>...</td>\n",
       "      <td>...</td>\n",
       "      <td>...</td>\n",
       "      <td>...</td>\n",
       "      <td>...</td>\n",
       "      <td>...</td>\n",
       "    </tr>\n",
       "    <tr>\n",
       "      <th>21230</th>\n",
       "      <td>2018-02-15</td>\n",
       "      <td>4.0</td>\n",
       "      <td>-3.7</td>\n",
       "      <td>7.7</td>\n",
       "      <td>NaN</td>\n",
       "      <td>28.0</td>\n",
       "      <td>2.5</td>\n",
       "      <td>NaN</td>\n",
       "      <td>NaN</td>\n",
       "      <td>0.0</td>\n",
       "      <td>-0.7</td>\n",
       "    </tr>\n",
       "    <tr>\n",
       "      <th>21789</th>\n",
       "      <td>2019-08-28</td>\n",
       "      <td>30.2</td>\n",
       "      <td>23.6</td>\n",
       "      <td>6.6</td>\n",
       "      <td>NaN</td>\n",
       "      <td>66.2</td>\n",
       "      <td>1.9</td>\n",
       "      <td>NaN</td>\n",
       "      <td>NaN</td>\n",
       "      <td>0.0</td>\n",
       "      <td>26.1</td>\n",
       "    </tr>\n",
       "    <tr>\n",
       "      <th>21790</th>\n",
       "      <td>2019-08-29</td>\n",
       "      <td>26.4</td>\n",
       "      <td>20.1</td>\n",
       "      <td>6.3</td>\n",
       "      <td>36.9</td>\n",
       "      <td>77.1</td>\n",
       "      <td>2.2</td>\n",
       "      <td>4.9</td>\n",
       "      <td>NaN</td>\n",
       "      <td>37.4</td>\n",
       "      <td>23.4</td>\n",
       "    </tr>\n",
       "    <tr>\n",
       "      <th>22287</th>\n",
       "      <td>2021-01-07</td>\n",
       "      <td>-8.4</td>\n",
       "      <td>-16.5</td>\n",
       "      <td>8.1</td>\n",
       "      <td>NaN</td>\n",
       "      <td>49.9</td>\n",
       "      <td>4.1</td>\n",
       "      <td>NaN</td>\n",
       "      <td>NaN</td>\n",
       "      <td>0.0</td>\n",
       "      <td>-14.5</td>\n",
       "    </tr>\n",
       "    <tr>\n",
       "      <th>22865</th>\n",
       "      <td>2022-08-08</td>\n",
       "      <td>28.4</td>\n",
       "      <td>NaN</td>\n",
       "      <td>NaN</td>\n",
       "      <td>129.6</td>\n",
       "      <td>91.6</td>\n",
       "      <td>3.3</td>\n",
       "      <td>NaN</td>\n",
       "      <td>NaN</td>\n",
       "      <td>0.0</td>\n",
       "      <td>26.8</td>\n",
       "    </tr>\n",
       "  </tbody>\n",
       "</table>\n",
       "<p>4862 rows × 11 columns</p>\n",
       "</div>"
      ],
      "text/plain": [
       "               일시  최고기온  최저기온   일교차    강수량  평균습도  평균풍속  일조합  일사합   일조율  평균기온\n",
       "0      1960-01-01   2.2  -5.2   7.4    NaN  68.3   1.7  6.7  NaN   NaN  -1.6\n",
       "1      1960-01-02   1.2  -5.6   6.8    0.4  87.7   1.3  0.0  NaN   NaN  -1.9\n",
       "2      1960-01-03   8.7  -2.1  10.8    0.0  81.3   3.0  0.0  NaN   NaN   4.0\n",
       "3      1960-01-04  10.8   1.2   9.6    0.0  79.7   4.4  2.6  NaN   NaN   7.5\n",
       "4      1960-01-05   1.3  -8.2   9.5    NaN  44.0   5.1  8.2  NaN   NaN  -4.6\n",
       "...           ...   ...   ...   ...    ...   ...   ...  ...  ...   ...   ...\n",
       "21230  2018-02-15   4.0  -3.7   7.7    NaN  28.0   2.5  NaN  NaN   0.0  -0.7\n",
       "21789  2019-08-28  30.2  23.6   6.6    NaN  66.2   1.9  NaN  NaN   0.0  26.1\n",
       "21790  2019-08-29  26.4  20.1   6.3   36.9  77.1   2.2  4.9  NaN  37.4  23.4\n",
       "22287  2021-01-07  -8.4 -16.5   8.1    NaN  49.9   4.1  NaN  NaN   0.0 -14.5\n",
       "22865  2022-08-08  28.4   NaN   NaN  129.6  91.6   3.3  NaN  NaN   0.0  26.8\n",
       "\n",
       "[4862 rows x 11 columns]"
      ]
     },
     "execution_count": 112,
     "metadata": {},
     "output_type": "execute_result"
    }
   ],
   "source": [
    "train[train.일사합.isna()]"
   ]
  },
  {
   "cell_type": "code",
   "execution_count": 113,
   "id": "303500f0-4291-421f-ab37-85a3932660c6",
   "metadata": {},
   "outputs": [
    {
     "data": {
      "text/plain": [
       "[<matplotlib.lines.Line2D at 0x264643d7580>]"
      ]
     },
     "execution_count": 113,
     "metadata": {},
     "output_type": "execute_result"
    },
    {
     "data": {
      "image/png": "[encoded data removed]",
      "text/plain": [
       "<Figure size 640x480 with 1 Axes>"
      ]
     },
     "metadata": {},
     "output_type": "display_data"
    }
   ],
   "source": [
    "plt.plot(train.일사합.fillna(0))"
   ]
  },
  {
   "cell_type": "code",
   "execution_count": 114,
   "id": "4e652afb-fb5c-4c34-980b-77422d2da0aa",
   "metadata": {},
   "outputs": [
    {
     "data": {
      "text/html": [
       "<div>\n",
       "<style scoped>\n",
       "    .dataframe tbody tr th:only-of-type {\n",
       "        vertical-align: middle;\n",
       "    }\n",
       "\n",
       "    .dataframe tbody tr th {\n",
       "        vertical-align: top;\n",
       "    }\n",
       "\n",
       "    .dataframe thead th {\n",
       "        text-align: right;\n",
       "    }\n",
       "</style>\n",
       "<table border=\"1\" class=\"dataframe\">\n",
       "  <thead>\n",
       "    <tr style=\"text-align: right;\">\n",
       "      <th></th>\n",
       "      <th>일시</th>\n",
       "      <th>최고기온</th>\n",
       "      <th>최저기온</th>\n",
       "      <th>일교차</th>\n",
       "      <th>강수량</th>\n",
       "      <th>평균습도</th>\n",
       "      <th>평균풍속</th>\n",
       "      <th>일조합</th>\n",
       "      <th>일사합</th>\n",
       "      <th>일조율</th>\n",
       "      <th>평균기온</th>\n",
       "    </tr>\n",
       "  </thead>\n",
       "  <tbody>\n",
       "    <tr>\n",
       "      <th>0</th>\n",
       "      <td>1960-01-01</td>\n",
       "      <td>2.2</td>\n",
       "      <td>-5.2</td>\n",
       "      <td>7.4</td>\n",
       "      <td>NaN</td>\n",
       "      <td>68.3</td>\n",
       "      <td>1.7</td>\n",
       "      <td>6.7</td>\n",
       "      <td>NaN</td>\n",
       "      <td>NaN</td>\n",
       "      <td>-1.6</td>\n",
       "    </tr>\n",
       "    <tr>\n",
       "      <th>1</th>\n",
       "      <td>1960-01-02</td>\n",
       "      <td>1.2</td>\n",
       "      <td>-5.6</td>\n",
       "      <td>6.8</td>\n",
       "      <td>0.4</td>\n",
       "      <td>87.7</td>\n",
       "      <td>1.3</td>\n",
       "      <td>0.0</td>\n",
       "      <td>NaN</td>\n",
       "      <td>NaN</td>\n",
       "      <td>-1.9</td>\n",
       "    </tr>\n",
       "    <tr>\n",
       "      <th>2</th>\n",
       "      <td>1960-01-03</td>\n",
       "      <td>8.7</td>\n",
       "      <td>-2.1</td>\n",
       "      <td>10.8</td>\n",
       "      <td>0.0</td>\n",
       "      <td>81.3</td>\n",
       "      <td>3.0</td>\n",
       "      <td>0.0</td>\n",
       "      <td>NaN</td>\n",
       "      <td>NaN</td>\n",
       "      <td>4.0</td>\n",
       "    </tr>\n",
       "    <tr>\n",
       "      <th>3</th>\n",
       "      <td>1960-01-04</td>\n",
       "      <td>10.8</td>\n",
       "      <td>1.2</td>\n",
       "      <td>9.6</td>\n",
       "      <td>0.0</td>\n",
       "      <td>79.7</td>\n",
       "      <td>4.4</td>\n",
       "      <td>2.6</td>\n",
       "      <td>NaN</td>\n",
       "      <td>NaN</td>\n",
       "      <td>7.5</td>\n",
       "    </tr>\n",
       "    <tr>\n",
       "      <th>4</th>\n",
       "      <td>1960-01-05</td>\n",
       "      <td>1.3</td>\n",
       "      <td>-8.2</td>\n",
       "      <td>9.5</td>\n",
       "      <td>NaN</td>\n",
       "      <td>44.0</td>\n",
       "      <td>5.1</td>\n",
       "      <td>8.2</td>\n",
       "      <td>NaN</td>\n",
       "      <td>NaN</td>\n",
       "      <td>-4.6</td>\n",
       "    </tr>\n",
       "    <tr>\n",
       "      <th>...</th>\n",
       "      <td>...</td>\n",
       "      <td>...</td>\n",
       "      <td>...</td>\n",
       "      <td>...</td>\n",
       "      <td>...</td>\n",
       "      <td>...</td>\n",
       "      <td>...</td>\n",
       "      <td>...</td>\n",
       "      <td>...</td>\n",
       "      <td>...</td>\n",
       "      <td>...</td>\n",
       "    </tr>\n",
       "    <tr>\n",
       "      <th>4744</th>\n",
       "      <td>1972-12-27</td>\n",
       "      <td>5.0</td>\n",
       "      <td>0.0</td>\n",
       "      <td>5.0</td>\n",
       "      <td>NaN</td>\n",
       "      <td>92.8</td>\n",
       "      <td>1.3</td>\n",
       "      <td>0.0</td>\n",
       "      <td>NaN</td>\n",
       "      <td>0.0</td>\n",
       "      <td>2.3</td>\n",
       "    </tr>\n",
       "    <tr>\n",
       "      <th>4745</th>\n",
       "      <td>1972-12-28</td>\n",
       "      <td>3.3</td>\n",
       "      <td>-2.8</td>\n",
       "      <td>6.1</td>\n",
       "      <td>3.1</td>\n",
       "      <td>92.0</td>\n",
       "      <td>2.5</td>\n",
       "      <td>0.0</td>\n",
       "      <td>NaN</td>\n",
       "      <td>0.0</td>\n",
       "      <td>0.2</td>\n",
       "    </tr>\n",
       "    <tr>\n",
       "      <th>4746</th>\n",
       "      <td>1972-12-29</td>\n",
       "      <td>-2.8</td>\n",
       "      <td>-7.5</td>\n",
       "      <td>4.7</td>\n",
       "      <td>NaN</td>\n",
       "      <td>57.5</td>\n",
       "      <td>4.0</td>\n",
       "      <td>6.0</td>\n",
       "      <td>NaN</td>\n",
       "      <td>63.2</td>\n",
       "      <td>-6.0</td>\n",
       "    </tr>\n",
       "    <tr>\n",
       "      <th>4747</th>\n",
       "      <td>1972-12-30</td>\n",
       "      <td>-0.2</td>\n",
       "      <td>-8.0</td>\n",
       "      <td>7.8</td>\n",
       "      <td>0.0</td>\n",
       "      <td>69.3</td>\n",
       "      <td>1.3</td>\n",
       "      <td>3.0</td>\n",
       "      <td>NaN</td>\n",
       "      <td>31.6</td>\n",
       "      <td>-4.0</td>\n",
       "    </tr>\n",
       "    <tr>\n",
       "      <th>4748</th>\n",
       "      <td>1972-12-31</td>\n",
       "      <td>4.4</td>\n",
       "      <td>-2.3</td>\n",
       "      <td>6.7</td>\n",
       "      <td>0.0</td>\n",
       "      <td>79.0</td>\n",
       "      <td>1.3</td>\n",
       "      <td>1.8</td>\n",
       "      <td>NaN</td>\n",
       "      <td>18.8</td>\n",
       "      <td>0.6</td>\n",
       "    </tr>\n",
       "  </tbody>\n",
       "</table>\n",
       "<p>4749 rows × 11 columns</p>\n",
       "</div>"
      ],
      "text/plain": [
       "              일시  최고기온  최저기온   일교차  강수량  평균습도  평균풍속  일조합  일사합   일조율  평균기온\n",
       "0     1960-01-01   2.2  -5.2   7.4  NaN  68.3   1.7  6.7  NaN   NaN  -1.6\n",
       "1     1960-01-02   1.2  -5.6   6.8  0.4  87.7   1.3  0.0  NaN   NaN  -1.9\n",
       "2     1960-01-03   8.7  -2.1  10.8  0.0  81.3   3.0  0.0  NaN   NaN   4.0\n",
       "3     1960-01-04  10.8   1.2   9.6  0.0  79.7   4.4  2.6  NaN   NaN   7.5\n",
       "4     1960-01-05   1.3  -8.2   9.5  NaN  44.0   5.1  8.2  NaN   NaN  -4.6\n",
       "...          ...   ...   ...   ...  ...   ...   ...  ...  ...   ...   ...\n",
       "4744  1972-12-27   5.0   0.0   5.0  NaN  92.8   1.3  0.0  NaN   0.0   2.3\n",
       "4745  1972-12-28   3.3  -2.8   6.1  3.1  92.0   2.5  0.0  NaN   0.0   0.2\n",
       "4746  1972-12-29  -2.8  -7.5   4.7  NaN  57.5   4.0  6.0  NaN  63.2  -6.0\n",
       "4747  1972-12-30  -0.2  -8.0   7.8  0.0  69.3   1.3  3.0  NaN  31.6  -4.0\n",
       "4748  1972-12-31   4.4  -2.3   6.7  0.0  79.0   1.3  1.8  NaN  18.8   0.6\n",
       "\n",
       "[4749 rows x 11 columns]"
      ]
     },
     "execution_count": 114,
     "metadata": {},
     "output_type": "execute_result"
    }
   ],
   "source": [
    "train.iloc[0:4749]"
   ]
  },
  {
   "cell_type": "code",
   "execution_count": 115,
   "id": "e3cc3607-20db-413f-899e-fdcf230a5623",
   "metadata": {},
   "outputs": [
    {
     "data": {
      "text/html": [
       "<div>\n",
       "<style scoped>\n",
       "    .dataframe tbody tr th:only-of-type {\n",
       "        vertical-align: middle;\n",
       "    }\n",
       "\n",
       "    .dataframe tbody tr th {\n",
       "        vertical-align: top;\n",
       "    }\n",
       "\n",
       "    .dataframe thead th {\n",
       "        text-align: right;\n",
       "    }\n",
       "</style>\n",
       "<table border=\"1\" class=\"dataframe\">\n",
       "  <thead>\n",
       "    <tr style=\"text-align: right;\">\n",
       "      <th></th>\n",
       "      <th>일시</th>\n",
       "      <th>최고기온</th>\n",
       "      <th>최저기온</th>\n",
       "      <th>일교차</th>\n",
       "      <th>강수량</th>\n",
       "      <th>평균습도</th>\n",
       "      <th>평균풍속</th>\n",
       "      <th>일조합</th>\n",
       "      <th>일사합</th>\n",
       "      <th>일조율</th>\n",
       "      <th>평균기온</th>\n",
       "    </tr>\n",
       "  </thead>\n",
       "  <tbody>\n",
       "    <tr>\n",
       "      <th>4780</th>\n",
       "      <td>1973-02-01</td>\n",
       "      <td>6.4</td>\n",
       "      <td>-1.1</td>\n",
       "      <td>7.5</td>\n",
       "      <td>NaN</td>\n",
       "      <td>73.0</td>\n",
       "      <td>2.8</td>\n",
       "      <td>6.1</td>\n",
       "      <td>NaN</td>\n",
       "      <td>59.2</td>\n",
       "      <td>2.7</td>\n",
       "    </tr>\n",
       "    <tr>\n",
       "      <th>4781</th>\n",
       "      <td>1973-02-02</td>\n",
       "      <td>5.1</td>\n",
       "      <td>-3.5</td>\n",
       "      <td>8.6</td>\n",
       "      <td>NaN</td>\n",
       "      <td>53.5</td>\n",
       "      <td>1.5</td>\n",
       "      <td>5.6</td>\n",
       "      <td>NaN</td>\n",
       "      <td>53.8</td>\n",
       "      <td>0.5</td>\n",
       "    </tr>\n",
       "    <tr>\n",
       "      <th>4782</th>\n",
       "      <td>1973-02-03</td>\n",
       "      <td>4.8</td>\n",
       "      <td>1.3</td>\n",
       "      <td>3.5</td>\n",
       "      <td>1.0</td>\n",
       "      <td>76.5</td>\n",
       "      <td>1.8</td>\n",
       "      <td>0.0</td>\n",
       "      <td>NaN</td>\n",
       "      <td>0.0</td>\n",
       "      <td>2.4</td>\n",
       "    </tr>\n",
       "    <tr>\n",
       "      <th>4783</th>\n",
       "      <td>1973-02-04</td>\n",
       "      <td>11.4</td>\n",
       "      <td>-0.1</td>\n",
       "      <td>11.5</td>\n",
       "      <td>NaN</td>\n",
       "      <td>75.3</td>\n",
       "      <td>1.6</td>\n",
       "      <td>8.7</td>\n",
       "      <td>NaN</td>\n",
       "      <td>83.7</td>\n",
       "      <td>5.0</td>\n",
       "    </tr>\n",
       "    <tr>\n",
       "      <th>4784</th>\n",
       "      <td>1973-02-05</td>\n",
       "      <td>7.2</td>\n",
       "      <td>1.7</td>\n",
       "      <td>5.5</td>\n",
       "      <td>0.0</td>\n",
       "      <td>83.3</td>\n",
       "      <td>3.0</td>\n",
       "      <td>0.5</td>\n",
       "      <td>NaN</td>\n",
       "      <td>4.8</td>\n",
       "      <td>4.6</td>\n",
       "    </tr>\n",
       "    <tr>\n",
       "      <th>...</th>\n",
       "      <td>...</td>\n",
       "      <td>...</td>\n",
       "      <td>...</td>\n",
       "      <td>...</td>\n",
       "      <td>...</td>\n",
       "      <td>...</td>\n",
       "      <td>...</td>\n",
       "      <td>...</td>\n",
       "      <td>...</td>\n",
       "      <td>...</td>\n",
       "      <td>...</td>\n",
       "    </tr>\n",
       "    <tr>\n",
       "      <th>4849</th>\n",
       "      <td>1973-04-11</td>\n",
       "      <td>14.0</td>\n",
       "      <td>6.0</td>\n",
       "      <td>8.0</td>\n",
       "      <td>23.6</td>\n",
       "      <td>89.8</td>\n",
       "      <td>2.9</td>\n",
       "      <td>0.0</td>\n",
       "      <td>NaN</td>\n",
       "      <td>0.0</td>\n",
       "      <td>10.5</td>\n",
       "    </tr>\n",
       "    <tr>\n",
       "      <th>4850</th>\n",
       "      <td>1973-04-12</td>\n",
       "      <td>16.3</td>\n",
       "      <td>5.4</td>\n",
       "      <td>10.9</td>\n",
       "      <td>NaN</td>\n",
       "      <td>74.0</td>\n",
       "      <td>2.6</td>\n",
       "      <td>10.8</td>\n",
       "      <td>NaN</td>\n",
       "      <td>81.8</td>\n",
       "      <td>10.2</td>\n",
       "    </tr>\n",
       "    <tr>\n",
       "      <th>4851</th>\n",
       "      <td>1973-04-13</td>\n",
       "      <td>16.3</td>\n",
       "      <td>4.8</td>\n",
       "      <td>11.5</td>\n",
       "      <td>NaN</td>\n",
       "      <td>65.0</td>\n",
       "      <td>3.0</td>\n",
       "      <td>11.2</td>\n",
       "      <td>NaN</td>\n",
       "      <td>85.5</td>\n",
       "      <td>10.1</td>\n",
       "    </tr>\n",
       "    <tr>\n",
       "      <th>4852</th>\n",
       "      <td>1973-04-14</td>\n",
       "      <td>18.8</td>\n",
       "      <td>7.6</td>\n",
       "      <td>11.2</td>\n",
       "      <td>NaN</td>\n",
       "      <td>55.0</td>\n",
       "      <td>3.0</td>\n",
       "      <td>0.4</td>\n",
       "      <td>NaN</td>\n",
       "      <td>3.1</td>\n",
       "      <td>12.7</td>\n",
       "    </tr>\n",
       "    <tr>\n",
       "      <th>4853</th>\n",
       "      <td>1973-04-15</td>\n",
       "      <td>15.9</td>\n",
       "      <td>9.5</td>\n",
       "      <td>6.4</td>\n",
       "      <td>9.0</td>\n",
       "      <td>73.8</td>\n",
       "      <td>6.3</td>\n",
       "      <td>0.7</td>\n",
       "      <td>NaN</td>\n",
       "      <td>5.3</td>\n",
       "      <td>12.5</td>\n",
       "    </tr>\n",
       "  </tbody>\n",
       "</table>\n",
       "<p>74 rows × 11 columns</p>\n",
       "</div>"
      ],
      "text/plain": [
       "              일시  최고기온  최저기온   일교차   강수량  평균습도  평균풍속   일조합  일사합   일조율  평균기온\n",
       "4780  1973-02-01   6.4  -1.1   7.5   NaN  73.0   2.8   6.1  NaN  59.2   2.7\n",
       "4781  1973-02-02   5.1  -3.5   8.6   NaN  53.5   1.5   5.6  NaN  53.8   0.5\n",
       "4782  1973-02-03   4.8   1.3   3.5   1.0  76.5   1.8   0.0  NaN   0.0   2.4\n",
       "4783  1973-02-04  11.4  -0.1  11.5   NaN  75.3   1.6   8.7  NaN  83.7   5.0\n",
       "4784  1973-02-05   7.2   1.7   5.5   0.0  83.3   3.0   0.5  NaN   4.8   4.6\n",
       "...          ...   ...   ...   ...   ...   ...   ...   ...  ...   ...   ...\n",
       "4849  1973-04-11  14.0   6.0   8.0  23.6  89.8   2.9   0.0  NaN   0.0  10.5\n",
       "4850  1973-04-12  16.3   5.4  10.9   NaN  74.0   2.6  10.8  NaN  81.8  10.2\n",
       "4851  1973-04-13  16.3   4.8  11.5   NaN  65.0   3.0  11.2  NaN  85.5  10.1\n",
       "4852  1973-04-14  18.8   7.6  11.2   NaN  55.0   3.0   0.4  NaN   3.1  12.7\n",
       "4853  1973-04-15  15.9   9.5   6.4   9.0  73.8   6.3   0.7  NaN   5.3  12.5\n",
       "\n",
       "[74 rows x 11 columns]"
      ]
     },
     "execution_count": 115,
     "metadata": {},
     "output_type": "execute_result"
    }
   ],
   "source": [
    "train.iloc[4780:4854]"
   ]
  },
  {
   "cell_type": "code",
   "execution_count": 116,
   "id": "da62fe9e-0a11-4b3d-b345-f9f9d3e12a97",
   "metadata": {},
   "outputs": [
    {
     "data": {
      "text/plain": [
       "39"
      ]
     },
     "execution_count": 116,
     "metadata": {},
     "output_type": "execute_result"
    }
   ],
   "source": [
    "sum(train.iloc[4854:].일사합.isna())"
   ]
  },
  {
   "cell_type": "markdown",
   "id": "92d4d8a2-a09a-46da-a134-f3f959f9cb73",
   "metadata": {},
   "source": [
    "#### 일조율"
   ]
  },
  {
   "cell_type": "code",
   "execution_count": 117,
   "id": "4636cc13-8b5d-4b91-b052-b5b16bd73444",
   "metadata": {},
   "outputs": [
    {
     "data": {
      "text/html": [
       "<div>\n",
       "<style scoped>\n",
       "    .dataframe tbody tr th:only-of-type {\n",
       "        vertical-align: middle;\n",
       "    }\n",
       "\n",
       "    .dataframe tbody tr th {\n",
       "        vertical-align: top;\n",
       "    }\n",
       "\n",
       "    .dataframe thead th {\n",
       "        text-align: right;\n",
       "    }\n",
       "</style>\n",
       "<table border=\"1\" class=\"dataframe\">\n",
       "  <thead>\n",
       "    <tr style=\"text-align: right;\">\n",
       "      <th></th>\n",
       "      <th>일시</th>\n",
       "      <th>최고기온</th>\n",
       "      <th>최저기온</th>\n",
       "      <th>일교차</th>\n",
       "      <th>강수량</th>\n",
       "      <th>평균습도</th>\n",
       "      <th>평균풍속</th>\n",
       "      <th>일조합</th>\n",
       "      <th>일사합</th>\n",
       "      <th>일조율</th>\n",
       "      <th>평균기온</th>\n",
       "    </tr>\n",
       "  </thead>\n",
       "  <tbody>\n",
       "    <tr>\n",
       "      <th>0</th>\n",
       "      <td>1960-01-01</td>\n",
       "      <td>2.2</td>\n",
       "      <td>-5.2</td>\n",
       "      <td>7.4</td>\n",
       "      <td>NaN</td>\n",
       "      <td>68.3</td>\n",
       "      <td>1.7</td>\n",
       "      <td>6.7</td>\n",
       "      <td>NaN</td>\n",
       "      <td>NaN</td>\n",
       "      <td>-1.6</td>\n",
       "    </tr>\n",
       "    <tr>\n",
       "      <th>1</th>\n",
       "      <td>1960-01-02</td>\n",
       "      <td>1.2</td>\n",
       "      <td>-5.6</td>\n",
       "      <td>6.8</td>\n",
       "      <td>0.4</td>\n",
       "      <td>87.7</td>\n",
       "      <td>1.3</td>\n",
       "      <td>0.0</td>\n",
       "      <td>NaN</td>\n",
       "      <td>NaN</td>\n",
       "      <td>-1.9</td>\n",
       "    </tr>\n",
       "    <tr>\n",
       "      <th>2</th>\n",
       "      <td>1960-01-03</td>\n",
       "      <td>8.7</td>\n",
       "      <td>-2.1</td>\n",
       "      <td>10.8</td>\n",
       "      <td>0.0</td>\n",
       "      <td>81.3</td>\n",
       "      <td>3.0</td>\n",
       "      <td>0.0</td>\n",
       "      <td>NaN</td>\n",
       "      <td>NaN</td>\n",
       "      <td>4.0</td>\n",
       "    </tr>\n",
       "    <tr>\n",
       "      <th>3</th>\n",
       "      <td>1960-01-04</td>\n",
       "      <td>10.8</td>\n",
       "      <td>1.2</td>\n",
       "      <td>9.6</td>\n",
       "      <td>0.0</td>\n",
       "      <td>79.7</td>\n",
       "      <td>4.4</td>\n",
       "      <td>2.6</td>\n",
       "      <td>NaN</td>\n",
       "      <td>NaN</td>\n",
       "      <td>7.5</td>\n",
       "    </tr>\n",
       "    <tr>\n",
       "      <th>4</th>\n",
       "      <td>1960-01-05</td>\n",
       "      <td>1.3</td>\n",
       "      <td>-8.2</td>\n",
       "      <td>9.5</td>\n",
       "      <td>NaN</td>\n",
       "      <td>44.0</td>\n",
       "      <td>5.1</td>\n",
       "      <td>8.2</td>\n",
       "      <td>NaN</td>\n",
       "      <td>NaN</td>\n",
       "      <td>-4.6</td>\n",
       "    </tr>\n",
       "    <tr>\n",
       "      <th>...</th>\n",
       "      <td>...</td>\n",
       "      <td>...</td>\n",
       "      <td>...</td>\n",
       "      <td>...</td>\n",
       "      <td>...</td>\n",
       "      <td>...</td>\n",
       "      <td>...</td>\n",
       "      <td>...</td>\n",
       "      <td>...</td>\n",
       "      <td>...</td>\n",
       "      <td>...</td>\n",
       "    </tr>\n",
       "    <tr>\n",
       "      <th>361</th>\n",
       "      <td>1960-12-27</td>\n",
       "      <td>-0.7</td>\n",
       "      <td>-9.4</td>\n",
       "      <td>8.7</td>\n",
       "      <td>0.0</td>\n",
       "      <td>61.3</td>\n",
       "      <td>1.8</td>\n",
       "      <td>0.0</td>\n",
       "      <td>NaN</td>\n",
       "      <td>NaN</td>\n",
       "      <td>-5.2</td>\n",
       "    </tr>\n",
       "    <tr>\n",
       "      <th>362</th>\n",
       "      <td>1960-12-28</td>\n",
       "      <td>-4.3</td>\n",
       "      <td>-9.8</td>\n",
       "      <td>5.5</td>\n",
       "      <td>NaN</td>\n",
       "      <td>53.0</td>\n",
       "      <td>3.7</td>\n",
       "      <td>4.3</td>\n",
       "      <td>NaN</td>\n",
       "      <td>NaN</td>\n",
       "      <td>-7.5</td>\n",
       "    </tr>\n",
       "    <tr>\n",
       "      <th>363</th>\n",
       "      <td>1960-12-29</td>\n",
       "      <td>-7.9</td>\n",
       "      <td>-13.5</td>\n",
       "      <td>5.6</td>\n",
       "      <td>NaN</td>\n",
       "      <td>49.3</td>\n",
       "      <td>5.0</td>\n",
       "      <td>9.0</td>\n",
       "      <td>NaN</td>\n",
       "      <td>NaN</td>\n",
       "      <td>-10.8</td>\n",
       "    </tr>\n",
       "    <tr>\n",
       "      <th>364</th>\n",
       "      <td>1960-12-30</td>\n",
       "      <td>-9.7</td>\n",
       "      <td>-16.0</td>\n",
       "      <td>6.3</td>\n",
       "      <td>NaN</td>\n",
       "      <td>53.3</td>\n",
       "      <td>5.7</td>\n",
       "      <td>8.2</td>\n",
       "      <td>NaN</td>\n",
       "      <td>NaN</td>\n",
       "      <td>-12.8</td>\n",
       "    </tr>\n",
       "    <tr>\n",
       "      <th>365</th>\n",
       "      <td>1960-12-31</td>\n",
       "      <td>-7.2</td>\n",
       "      <td>-15.7</td>\n",
       "      <td>8.5</td>\n",
       "      <td>NaN</td>\n",
       "      <td>58.3</td>\n",
       "      <td>3.0</td>\n",
       "      <td>7.3</td>\n",
       "      <td>NaN</td>\n",
       "      <td>NaN</td>\n",
       "      <td>-11.7</td>\n",
       "    </tr>\n",
       "  </tbody>\n",
       "</table>\n",
       "<p>366 rows × 11 columns</p>\n",
       "</div>"
      ],
      "text/plain": [
       "             일시  최고기온  최저기온   일교차  강수량  평균습도  평균풍속  일조합  일사합  일조율  평균기온\n",
       "0    1960-01-01   2.2  -5.2   7.4  NaN  68.3   1.7  6.7  NaN  NaN  -1.6\n",
       "1    1960-01-02   1.2  -5.6   6.8  0.4  87.7   1.3  0.0  NaN  NaN  -1.9\n",
       "2    1960-01-03   8.7  -2.1  10.8  0.0  81.3   3.0  0.0  NaN  NaN   4.0\n",
       "3    1960-01-04  10.8   1.2   9.6  0.0  79.7   4.4  2.6  NaN  NaN   7.5\n",
       "4    1960-01-05   1.3  -8.2   9.5  NaN  44.0   5.1  8.2  NaN  NaN  -4.6\n",
       "..          ...   ...   ...   ...  ...   ...   ...  ...  ...  ...   ...\n",
       "361  1960-12-27  -0.7  -9.4   8.7  0.0  61.3   1.8  0.0  NaN  NaN  -5.2\n",
       "362  1960-12-28  -4.3  -9.8   5.5  NaN  53.0   3.7  4.3  NaN  NaN  -7.5\n",
       "363  1960-12-29  -7.9 -13.5   5.6  NaN  49.3   5.0  9.0  NaN  NaN -10.8\n",
       "364  1960-12-30  -9.7 -16.0   6.3  NaN  53.3   5.7  8.2  NaN  NaN -12.8\n",
       "365  1960-12-31  -7.2 -15.7   8.5  NaN  58.3   3.0  7.3  NaN  NaN -11.7\n",
       "\n",
       "[366 rows x 11 columns]"
      ]
     },
     "execution_count": 117,
     "metadata": {},
     "output_type": "execute_result"
    }
   ],
   "source": [
    "train[train.일조율.isna()]"
   ]
  },
  {
   "cell_type": "code",
   "execution_count": 118,
   "id": "d2b8a319-07b1-44e3-8000-8b6b6f42ae90",
   "metadata": {},
   "outputs": [
    {
     "data": {
      "text/plain": [
       "[<matplotlib.lines.Line2D at 0x26464446430>]"
      ]
     },
     "execution_count": 118,
     "metadata": {},
     "output_type": "execute_result"
    },
    {
     "data": {
      "image/png": "[encoded data removed]",
      "text/plain": [
       "<Figure size 640x480 with 1 Axes>"
      ]
     },
     "metadata": {},
     "output_type": "display_data"
    }
   ],
   "source": [
    "plt.plot(train.일조율.fillna(0))"
   ]
  },
  {
   "cell_type": "markdown",
   "id": "805c95ac-d8b5-432d-93f2-bfe2fb5ba875",
   "metadata": {},
   "source": [
    "## 2. 이상치 제거 및 결측치 보간"
   ]
  },
  {
   "cell_type": "markdown",
   "id": "53d0c753-8ae3-4be3-9b24-68a6029c2bbd",
   "metadata": {},
   "source": [
    "#### 강수량"
   ]
  },
  {
   "cell_type": "code",
   "execution_count": 119,
   "id": "ea97c192-8646-4b53-ab1e-ce496ca80a60",
   "metadata": {},
   "outputs": [],
   "source": [
    "# 이상치 판단\n",
    "def outlier(data, column):\n",
    "    q25 = np.quantile(data[column].dropna(), 0.25)\n",
    "    q75 = np.quantile(data[column].dropna(), 0.75)\n",
    "    iqr = q75 - q25\n",
    "    iqr_cut = iqr * 3\n",
    "    result = data[(data[column] > q75 + iqr_cut) | (data[column] < q25 - iqr_cut)].index\n",
    "    return result"
   ]
  },
  {
   "cell_type": "code",
   "execution_count": 120,
   "id": "9273652f-c1bd-4710-931a-1b35265379fb",
   "metadata": {},
   "outputs": [
    {
     "data": {
      "text/plain": [
       "<BarContainer object of 771 artists>"
      ]
     },
     "execution_count": 120,
     "metadata": {},
     "output_type": "execute_result"
    },
    {
     "data": {
      "image/png": "[encoded data removed]",
      "text/plain": [
       "<Figure size 640x480 with 1 Axes>"
      ]
     },
     "metadata": {},
     "output_type": "display_data"
    }
   ],
   "source": [
    "# 그래프가 정규분포를 너무 따르지 않음 -> 강수량이 0인 날을 제외해도 그래프가 정규분포를 따르기는 어려워보임 => 이상치 판단이 어려움\n",
    "plt.bar(train.강수량.value_counts().index, train.강수량.value_counts().values)"
   ]
  },
  {
   "cell_type": "code",
   "execution_count": 121,
   "id": "8eb8f34a-f363-4ca6-b00b-507b33d89394",
   "metadata": {},
   "outputs": [
    {
     "data": {
      "text/plain": [
       "<BarContainer object of 477 artists>"
      ]
     },
     "execution_count": 121,
     "metadata": {},
     "output_type": "execute_result"
    },
    {
     "data": {
      "image/png": "[encoded data removed]",
      "text/plain": [
       "<Figure size 640x480 with 1 Axes>"
      ]
     },
     "metadata": {},
     "output_type": "display_data"
    }
   ],
   "source": [
    "plt.bar(train[train.강수량>30].강수량.value_counts().index, train[train.강수량>30].강수량.value_counts().values)"
   ]
  },
  {
   "cell_type": "code",
   "execution_count": 122,
   "id": "ff29e7a5-bc10-47c2-abf6-515154a54a5a",
   "metadata": {},
   "outputs": [],
   "source": [
    "# 강수량은 기상청에서 정한 강수표현에 따라 구간을 나누는 것으로 수치 변경\n",
    "# 비가 내리지 않음 : 0, 매우 약한 비 : 0~1, 약한 비 : 1~3, 보통 비 : 3~15, 강한 비 : 15~30, 매우 강한 비 : 30 이상\n",
    "train.강수량 = pd.cut(train.강수량, bins = [0, 0.9, 2.9, 14.9, 29.9, max(train.강수량)], labels = [1, 2, 3, 4, 5])\n",
    "train.강수량 = train.강수량.astype('float')\n",
    "train.강수량 = train.강수량.fillna(0)"
   ]
  },
  {
   "cell_type": "markdown",
   "id": "1b3f6636-0d8b-415b-aeab-79ac21551a04",
   "metadata": {},
   "source": [
    "#### 최고, 최저 기온, 평균풍속, 일조합"
   ]
  },
  {
   "cell_type": "code",
   "execution_count": 123,
   "id": "7fb41126-41ad-4a52-b887-fa6a7f71ad07",
   "metadata": {},
   "outputs": [],
   "source": [
    "def time_interpolate(data, column):\n",
    "    tem = data[[\"일시\", column]].copy()\n",
    "    tem.index = pd.to_datetime(tem['일시'])\n",
    "    tem = tem.drop([\"일시\"], axis = 1)\n",
    "    tem = tem.interpolate(method=\"time\")\n",
    "    return tem[column].values\n",
    "\n",
    "train.최고기온 = time_interpolate(train, \"최고기온\")\n",
    "train.최저기온 = time_interpolate(train, \"최저기온\")"
   ]
  },
  {
   "cell_type": "code",
   "execution_count": 124,
   "id": "a17f3061-3382-4b14-9bfc-3812f10e88cb",
   "metadata": {},
   "outputs": [
    {
     "data": {
      "text/plain": [
       "Index([], dtype='int64')"
      ]
     },
     "execution_count": 124,
     "metadata": {},
     "output_type": "execute_result"
    }
   ],
   "source": [
    "# 최저기온, 최고기온 모두 이상치 없음\n",
    "outlier(train, \"최고기온\")"
   ]
  },
  {
   "cell_type": "code",
   "execution_count": 125,
   "id": "3f0dcf6d-b934-483b-9411-a04fdd8ee706",
   "metadata": {},
   "outputs": [
    {
     "data": {
      "text/plain": [
       "Index([], dtype='int64')"
      ]
     },
     "execution_count": 125,
     "metadata": {},
     "output_type": "execute_result"
    }
   ],
   "source": [
    "outlier(train, \"최저기온\")"
   ]
  },
  {
   "cell_type": "markdown",
   "id": "4823cab9-f6d6-43f2-80b9-bdad86ba7749",
   "metadata": {},
   "source": [
    "#### 일교차"
   ]
  },
  {
   "cell_type": "code",
   "execution_count": 126,
   "id": "e68766f9-a347-4556-a975-b432cc1ac114",
   "metadata": {},
   "outputs": [],
   "source": [
    "train.일교차 = train.최고기온 - train.최저기온"
   ]
  },
  {
   "cell_type": "code",
   "execution_count": 127,
   "id": "fae81b25-57c5-4275-a048-891b66ddc9cd",
   "metadata": {},
   "outputs": [
    {
     "data": {
      "text/plain": [
       "Index([], dtype='int64')"
      ]
     },
     "execution_count": 127,
     "metadata": {},
     "output_type": "execute_result"
    }
   ],
   "source": [
    "outlier(train, \"일교차\")"
   ]
  },
  {
   "cell_type": "code",
   "execution_count": 128,
   "id": "d822d6c8-d425-4465-8b6a-5ee8af0d1a54",
   "metadata": {},
   "outputs": [
    {
     "data": {
      "text/plain": [
       "<BarContainer object of 611 artists>"
      ]
     },
     "execution_count": 128,
     "metadata": {},
     "output_type": "execute_result"
    },
    {
     "data": {
      "image/png": "[encoded data removed]",
      "text/plain": [
       "<Figure size 640x480 with 1 Axes>"
      ]
     },
     "metadata": {},
     "output_type": "display_data"
    }
   ],
   "source": [
    "plt.bar(train.일교차.value_counts().index, train.일교차.value_counts().values)"
   ]
  },
  {
   "cell_type": "markdown",
   "id": "2cbd55d7-1b1a-416e-a4d2-3b78dbb4a7d0",
   "metadata": {},
   "source": [
    "#### 평균풍속"
   ]
  },
  {
   "cell_type": "code",
   "execution_count": 129,
   "id": "3f1c0ffb-5887-4fed-b81d-5069e8933841",
   "metadata": {},
   "outputs": [],
   "source": [
    "train.평균풍속 = time_interpolate(train, \"평균풍속\")"
   ]
  },
  {
   "cell_type": "code",
   "execution_count": 130,
   "id": "d2770481-21f1-4d47-876b-4605dcafbe1a",
   "metadata": {},
   "outputs": [
    {
     "data": {
      "text/plain": [
       "Index([  427,   459,   823,   950,  1557,  2138,  2297,  2584,  2661,  3235,\n",
       "        3401,  3818,  3894,  3966,  4078,  4473,  4729,  6292,  6643,  6992,\n",
       "        7334,  7414,  7604,  7651,  7726,  7727,  7744,  7952,  8449,  8516,\n",
       "        8519,  9059, 10259, 11317, 11890, 14854, 15557, 18804, 19104, 19233],\n",
       "      dtype='int64')"
      ]
     },
     "execution_count": 130,
     "metadata": {},
     "output_type": "execute_result"
    }
   ],
   "source": [
    "outlier(train, \"평균풍속\")"
   ]
  },
  {
   "cell_type": "code",
   "execution_count": 131,
   "id": "660e5915-a6e4-4a04-a8f1-b81baa8fa552",
   "metadata": {},
   "outputs": [
    {
     "data": {
      "text/plain": [
       "<BarContainer object of 80 artists>"
      ]
     },
     "execution_count": 131,
     "metadata": {},
     "output_type": "execute_result"
    },
    {
     "data": {
      "image/png": "[encoded data removed]",
      "text/plain": [
       "<Figure size 640x480 with 1 Axes>"
      ]
     },
     "metadata": {},
     "output_type": "display_data"
    }
   ],
   "source": [
    "plt.bar(train.평균풍속.value_counts().index, train.평균풍속.value_counts().values)"
   ]
  },
  {
   "cell_type": "code",
   "execution_count": 132,
   "id": "92f65c81-087d-44e8-883c-efe762eee853",
   "metadata": {},
   "outputs": [
    {
     "data": {
      "text/plain": [
       "{'whiskers': [<matplotlib.lines.Line2D at 0x2647345cfa0>,\n",
       "  <matplotlib.lines.Line2D at 0x2647346b2b0>],\n",
       " 'caps': [<matplotlib.lines.Line2D at 0x2647346b580>,\n",
       "  <matplotlib.lines.Line2D at 0x2647346b850>],\n",
       " 'boxes': [<matplotlib.lines.Line2D at 0x2647345cc70>],\n",
       " 'medians': [<matplotlib.lines.Line2D at 0x2647346bb20>],\n",
       " 'fliers': [<matplotlib.lines.Line2D at 0x2647346bdf0>],\n",
       " 'means': []}"
      ]
     },
     "execution_count": 132,
     "metadata": {},
     "output_type": "execute_result"
    },
    {
     "data": {
      "image/png": "[encoded data removed]",
      "text/plain": [
       "<Figure size 640x480 with 1 Axes>"
      ]
     },
     "metadata": {},
     "output_type": "display_data"
    }
   ],
   "source": [
    "plt.boxplot(train.평균풍속)"
   ]
  },
  {
   "cell_type": "code",
   "execution_count": 133,
   "id": "42adf41b-e09b-4713-8123-ed60adcad2bd",
   "metadata": {},
   "outputs": [],
   "source": [
    "# 이상치가 좀 있으므로 전부 NA로 바꾸고 보간을 해준다.\n",
    "train.loc[outlier(train, \"평균풍속\"),\"평균풍속\"] = np.nan"
   ]
  },
  {
   "cell_type": "code",
   "execution_count": 134,
   "id": "0c9e28b9-52a3-4ebf-8407-2c3393156e4d",
   "metadata": {},
   "outputs": [],
   "source": [
    "train.평균풍속 = time_interpolate(train, \"평균풍속\")"
   ]
  },
  {
   "cell_type": "code",
   "execution_count": 135,
   "id": "6c939d87-f368-4ae8-b567-17f1030a70be",
   "metadata": {},
   "outputs": [
    {
     "data": {
      "text/plain": [
       "Index([], dtype='int64')"
      ]
     },
     "execution_count": 135,
     "metadata": {},
     "output_type": "execute_result"
    }
   ],
   "source": [
    "outlier(train, \"평균풍속\")"
   ]
  },
  {
   "cell_type": "markdown",
   "id": "f52950cc-88ab-4e83-a6c6-4a4d4a298a05",
   "metadata": {},
   "source": [
    "#### 일조합"
   ]
  },
  {
   "cell_type": "code",
   "execution_count": 136,
   "id": "73a83e7d-364c-4b25-9dab-b82feedc9719",
   "metadata": {},
   "outputs": [],
   "source": [
    "train.일조합 = time_interpolate(train, \"일조합\")"
   ]
  },
  {
   "cell_type": "code",
   "execution_count": 137,
   "id": "908694bf-f59c-4608-a278-b543435ed133",
   "metadata": {},
   "outputs": [
    {
     "data": {
      "text/plain": [
       "Index([], dtype='int64')"
      ]
     },
     "execution_count": 137,
     "metadata": {},
     "output_type": "execute_result"
    }
   ],
   "source": [
    "outlier(train, \"일조합\")"
   ]
  },
  {
   "cell_type": "code",
   "execution_count": 138,
   "id": "7c3ec595-afcc-4769-bab4-d544d6acf9ed",
   "metadata": {},
   "outputs": [
    {
     "data": {
      "text/plain": [
       "<BarContainer object of 221 artists>"
      ]
     },
     "execution_count": 138,
     "metadata": {},
     "output_type": "execute_result"
    },
    {
     "data": {
      "image/png": "[encoded data removed]",
      "text/plain": [
       "<Figure size 640x480 with 1 Axes>"
      ]
     },
     "metadata": {},
     "output_type": "display_data"
    }
   ],
   "source": [
    "plt.bar(train.일조합.value_counts().index, train.일조합.value_counts().values)"
   ]
  },
  {
   "cell_type": "code",
   "execution_count": 139,
   "id": "af54d031-be7a-4294-8b28-dc6da90b07fd",
   "metadata": {},
   "outputs": [
    {
     "data": {
      "text/plain": [
       "{'whiskers': [<matplotlib.lines.Line2D at 0x264738f8ca0>,\n",
       "  <matplotlib.lines.Line2D at 0x264738f8fa0>],\n",
       " 'caps': [<matplotlib.lines.Line2D at 0x264737872b0>,\n",
       "  <matplotlib.lines.Line2D at 0x26473787580>],\n",
       " 'boxes': [<matplotlib.lines.Line2D at 0x264738f8af0>],\n",
       " 'medians': [<matplotlib.lines.Line2D at 0x26473787850>],\n",
       " 'fliers': [<matplotlib.lines.Line2D at 0x26473787b20>],\n",
       " 'means': []}"
      ]
     },
     "execution_count": 139,
     "metadata": {},
     "output_type": "execute_result"
    },
    {
     "data": {
      "image/png": "[encoded data removed]",
      "text/plain": [
       "<Figure size 640x480 with 1 Axes>"
      ]
     },
     "metadata": {},
     "output_type": "display_data"
    }
   ],
   "source": [
    "plt.boxplot(train.일조합)"
   ]
  },
  {
   "cell_type": "markdown",
   "id": "a1449c0f-ab5d-4e7c-9554-eabd00d9edab",
   "metadata": {},
   "source": [
    "#### 일사합"
   ]
  },
  {
   "cell_type": "code",
   "execution_count": 140,
   "id": "a03d67a6-47ab-4413-bc0f-a75d4514021c",
   "metadata": {},
   "outputs": [],
   "source": [
    "train.loc[0:4749, \"일사합\"] = 0"
   ]
  },
  {
   "cell_type": "code",
   "execution_count": 141,
   "id": "7780da53-128e-4bdd-b266-c3ff25b7013d",
   "metadata": {},
   "outputs": [],
   "source": [
    "train.loc[4780:4854, \"일사합\"] = 0"
   ]
  },
  {
   "cell_type": "code",
   "execution_count": 142,
   "id": "eef22f13-bad4-433b-8926-06999a451884",
   "metadata": {},
   "outputs": [
    {
     "data": {
      "text/plain": [
       "39"
      ]
     },
     "execution_count": 142,
     "metadata": {},
     "output_type": "execute_result"
    }
   ],
   "source": [
    "train.일사합.isna().sum()"
   ]
  },
  {
   "cell_type": "code",
   "execution_count": 143,
   "id": "a7d71b64-758f-424a-9563-7dd436f0ccb0",
   "metadata": {},
   "outputs": [],
   "source": [
    "train.일사합 = time_interpolate(train, \"일사합\")"
   ]
  },
  {
   "cell_type": "code",
   "execution_count": 144,
   "id": "974189cb-945e-44cc-8d7e-20157fd278af",
   "metadata": {},
   "outputs": [
    {
     "data": {
      "text/plain": [
       "Index([], dtype='int64')"
      ]
     },
     "execution_count": 144,
     "metadata": {},
     "output_type": "execute_result"
    }
   ],
   "source": [
    "outlier(train, \"일사합\")"
   ]
  },
  {
   "cell_type": "markdown",
   "id": "cb980631-3cda-475b-b2cc-e1b9ac8c155f",
   "metadata": {},
   "source": [
    "#### 일조율"
   ]
  },
  {
   "cell_type": "code",
   "execution_count": 145,
   "id": "d0bd6130-2166-420b-870d-258bcbd4f9d6",
   "metadata": {},
   "outputs": [],
   "source": [
    "# 삭제\n",
    "train = train.iloc[train.일조율.dropna().index]"
   ]
  },
  {
   "cell_type": "code",
   "execution_count": 146,
   "id": "74b931f0-3767-4813-887f-f6ce0bf6bd73",
   "metadata": {},
   "outputs": [
    {
     "data": {
      "text/plain": [
       "Index([], dtype='int64')"
      ]
     },
     "execution_count": 146,
     "metadata": {},
     "output_type": "execute_result"
    }
   ],
   "source": [
    "outlier(train, \"일조율\")"
   ]
  },
  {
   "cell_type": "code",
   "execution_count": 147,
   "id": "1667ceb0-398e-4628-a8ff-d458e78f8bef",
   "metadata": {},
   "outputs": [
    {
     "data": {
      "text/plain": [
       "일시      0\n",
       "최고기온    0\n",
       "최저기온    0\n",
       "일교차     0\n",
       "강수량     0\n",
       "평균습도    0\n",
       "평균풍속    0\n",
       "일조합     0\n",
       "일사합     0\n",
       "일조율     0\n",
       "평균기온    0\n",
       "dtype: int64"
      ]
     },
     "execution_count": 147,
     "metadata": {},
     "output_type": "execute_result"
    }
   ],
   "source": [
    "# 이상치 없음, 결측치 없음\n",
    "train.isna().sum()"
   ]
  },
  {
   "cell_type": "markdown",
   "id": "48a1b126-7083-417b-a8a9-3f2bad45a8ee",
   "metadata": {},
   "source": [
    "### 변수 생성\n",
    "1. 가조합 : 일조합/일조율\n",
    "2. 일사합/일조합 : 햇빛이 실제 내리쬐는 시간 중 진짜 에너지가 닿는 비율\n",
    "3. 사절기\n",
    "4. 년, 월, 일"
   ]
  },
  {
   "cell_type": "code",
   "execution_count": 148,
   "id": "338a60e3-d530-45ab-bfe4-1769961a13d8",
   "metadata": {},
   "outputs": [],
   "source": [
    "# 가조합\n",
    "train[\"가조합\"] = train.일조합/(train.일조율/100)\n",
    "train.가조합 = time_interpolate(train, \"가조합\")"
   ]
  },
  {
   "cell_type": "code",
   "execution_count": 152,
   "id": "25a1665d-0b30-45a1-ad42-5bf9f9c42a3d",
   "metadata": {},
   "outputs": [],
   "source": [
    "# 일사합/일조합\n",
    "train[\"일사_일조\"] = train.일사합/train.일조합\n",
    "train.일사_일조 = time_interpolate(train, \"일사_일조\")"
   ]
  },
  {
   "cell_type": "code",
   "execution_count": 176,
   "id": "a1dbc831-62ab-4df7-b382-64171568a54e",
   "metadata": {},
   "outputs": [],
   "source": [
    "# 년, 월, 일\n",
    "train[\"연\"] = train.일시.str.split(\"-\", expand = True)[0].astype(\"int\")\n",
    "train[\"월\"] = train.일시.str.split(\"-\", expand = True)[1].astype(\"int\")\n",
    "train[\"일\"] = train.일시.str.split(\"-\", expand = True)[2].astype(\"int\")"
   ]
  },
  {
   "cell_type": "code",
   "execution_count": 193,
   "id": "dd4b4266-c952-43af-b6ec-00ef23f554b8",
   "metadata": {},
   "outputs": [],
   "source": [
    "# 사계절: 0 겨울, 1 봄, 2 여름, 3 가을\n",
    "train[\"계절\"] = pd.cut(train.월, bins = [0, 2, 5, 8, 11, 12], labels = [0, 1, 2, 3, 5])\n",
    "train.계절 = [0 if i == 5 else i for i in train.계절]\n",
    "train.계절 = train.계절.astype(\"int\")"
   ]
  },
  {
   "cell_type": "markdown",
   "id": "c215778b-1531-4fb9-9118-4de898fdbd46",
   "metadata": {},
   "source": [
    "## 시각화 및 EDA"
   ]
  },
  {
   "cell_type": "code",
   "execution_count": 204,
   "id": "649507d9-2ff7-45a3-9d50-c1a350fd2267",
   "metadata": {},
   "outputs": [
    {
     "data": {
      "text/plain": [
       "62"
      ]
     },
     "execution_count": 204,
     "metadata": {},
     "output_type": "execute_result"
    }
   ],
   "source": [
    "# 1961년 ~ 2022년까지 총 62년 데이터\n",
    "len(set(train.연))"
   ]
  },
  {
   "cell_type": "code",
   "execution_count": 225,
   "id": "51163656-ff0b-4b57-9eb4-34223029d65c",
   "metadata": {},
   "outputs": [
    {
     "data": {
      "text/plain": [
       "Text(0.5, 1.0, '계절별 연평균 최저, 최고, 평균 기온 및 일교차')"
      ]
     },
     "execution_count": 225,
     "metadata": {},
     "output_type": "execute_result"
    },
    {
     "data": {
      "image/png": "[encoded data removed]",
      "text/plain": [
       "<Figure size 640x480 with 1 Axes>"
      ]
     },
     "metadata": {},
     "output_type": "display_data"
    }
   ],
   "source": [
    "# 한글 폰트 깨짐 해결\n",
    "plt.rcParams['font.family'] ='Malgun Gothic'\n",
    "plt.rcParams['axes.unicode_minus'] =False\n",
    "\n",
    "# 연도별 평균 기온\n",
    "plt.plot(train[[\"연\", \"최고기온\", \"최저기온\", \"일교차\", \"평균기온\"]].groupby(\"연\").mean(), label =[\"최고기온\",\"최저기온\",\"일교차\",\"평균기온\"])\n",
    "plt.legend( bbox_to_anchor=(1, 0.5))\n",
    "plt.title(\"계절별 연평균 최저, 최고, 평균 기온 및 일교차\")"
   ]
  },
  {
   "cell_type": "markdown",
   "id": "3849da63-1a72-44bc-af15-74b41cfc93f6",
   "metadata": {},
   "source": [
    "- 연도별 평균 기온 : 전체적으로 들쑥날쑥한 모양을 보이고 있다. 그리고 시간이 지남에 따라 최고, 최저, 평균 기온은 올라가고 있다."
   ]
  },
  {
   "cell_type": "code",
   "execution_count": 238,
   "id": "3316321a-2233-4c4a-b676-a2a87da9f8e2",
   "metadata": {},
   "outputs": [
    {
     "data": {
      "image/png": "[encoded data removed]",
      "text/plain": [
       "<Figure size 640x480 with 4 Axes>"
      ]
     },
     "metadata": {},
     "output_type": "display_data"
    }
   ],
   "source": [
    "plt.title(\"계절별 연평균 최저, 최고, 평균 기온 및 일교차\")\n",
    "\n",
    "plt.subplot(2, 2, 1)\n",
    "plt.plot(train[[\"연\", \"최고기온\", \"최저기온\", \"일교차\", \"평균기온\"]][train.계절 == 1].groupby(\"연\").mean(), label =[\"최고기온\",\"최저기온\",\"일교차\",\"평균기온\"])\n",
    "plt.title(\"봄\")\n",
    "plt.ylim(-8, 40)\n",
    "\n",
    "plt.subplot(2, 2, 2)\n",
    "plt.plot(train[[\"연\", \"최고기온\", \"최저기온\", \"일교차\", \"평균기온\"]][train.계절 == 2].groupby(\"연\").mean(), label =[\"최고기온\",\"최저기온\",\"일교차\",\"평균기온\"])\n",
    "plt.title(\"여름\")\n",
    "plt.ylim(-8, 40)\n",
    "\n",
    "plt.subplot(2, 2, 3)\n",
    "plt.plot(train[[\"연\", \"최고기온\", \"최저기온\", \"일교차\", \"평균기온\"]][train.계절 == 3].groupby(\"연\").mean(), label =[\"최고기온\",\"최저기온\",\"일교차\",\"평균기온\"])\n",
    "plt.title(\"가을\")\n",
    "plt.ylim(-8, 40)\n",
    "\n",
    "plt.subplot(2, 2, 4)\n",
    "plt.plot(train[[\"연\", \"최고기온\", \"최저기온\", \"일교차\", \"평균기온\"]][train.계절 == 0].groupby(\"연\").mean(), label =[\"최고기온\",\"최저기온\",\"일교차\",\"평균기온\"])\n",
    "plt.legend(bbox_to_anchor=(1, 0.5))\n",
    "plt.title(\"겨울\")\n",
    "plt.ylim(-8, 40)\n",
    "\n",
    "plt.tight_layout()\n",
    "plt.show()"
   ]
  },
  {
   "cell_type": "markdown",
   "id": "130735a3-d1e2-4b22-80a4-9164e9ed2243",
   "metadata": {},
   "source": [
    "- 최고, 최저, 평균 기온은 거의 비슷한 모양을 나타낸다.\n",
    "- 일교차가 두드러지게 있을 줄 알았는데 일교차의 차이가 거의 없는 모습이다. -> 평균을 내서 큰 차이는 없는 것 같지만 차이를 굳이 따지자면 봄이 가장 일교차가 커보인다.\n",
    "- 봄과 가을이 온도가 비슷해보인다. 굳이 따지자면 가을이 더 온도가 높다."
   ]
  },
  {
   "cell_type": "code",
   "execution_count": 239,
   "id": "b5b18404-0455-492b-9064-84ab368a5a69",
   "metadata": {},
   "outputs": [
    {
     "data": {
      "text/html": [
       "<div>\n",
       "<style scoped>\n",
       "    .dataframe tbody tr th:only-of-type {\n",
       "        vertical-align: middle;\n",
       "    }\n",
       "\n",
       "    .dataframe tbody tr th {\n",
       "        vertical-align: top;\n",
       "    }\n",
       "\n",
       "    .dataframe thead th {\n",
       "        text-align: right;\n",
       "    }\n",
       "</style>\n",
       "<table border=\"1\" class=\"dataframe\">\n",
       "  <thead>\n",
       "    <tr style=\"text-align: right;\">\n",
       "      <th></th>\n",
       "      <th>일시</th>\n",
       "      <th>최고기온</th>\n",
       "      <th>최저기온</th>\n",
       "      <th>일교차</th>\n",
       "      <th>강수량</th>\n",
       "      <th>평균습도</th>\n",
       "      <th>평균풍속</th>\n",
       "      <th>일조합</th>\n",
       "      <th>일사합</th>\n",
       "      <th>일조율</th>\n",
       "      <th>평균기온</th>\n",
       "      <th>가조합</th>\n",
       "      <th>일사_일조</th>\n",
       "      <th>연</th>\n",
       "      <th>월</th>\n",
       "      <th>일</th>\n",
       "      <th>계절</th>\n",
       "    </tr>\n",
       "  </thead>\n",
       "  <tbody>\n",
       "    <tr>\n",
       "      <th>366</th>\n",
       "      <td>1961-01-01</td>\n",
       "      <td>-4.9</td>\n",
       "      <td>-15.0</td>\n",
       "      <td>10.1</td>\n",
       "      <td>0.0</td>\n",
       "      <td>73.8</td>\n",
       "      <td>0.8</td>\n",
       "      <td>2.7</td>\n",
       "      <td>0.00</td>\n",
       "      <td>28.1</td>\n",
       "      <td>-9.8</td>\n",
       "      <td>9.608541</td>\n",
       "      <td>0.000000</td>\n",
       "      <td>1961</td>\n",
       "      <td>1</td>\n",
       "      <td>1</td>\n",
       "      <td>0</td>\n",
       "    </tr>\n",
       "    <tr>\n",
       "      <th>367</th>\n",
       "      <td>1961-01-02</td>\n",
       "      <td>0.2</td>\n",
       "      <td>-12.3</td>\n",
       "      <td>12.5</td>\n",
       "      <td>0.0</td>\n",
       "      <td>72.3</td>\n",
       "      <td>1.4</td>\n",
       "      <td>4.9</td>\n",
       "      <td>0.00</td>\n",
       "      <td>51.0</td>\n",
       "      <td>-6.2</td>\n",
       "      <td>9.607843</td>\n",
       "      <td>0.000000</td>\n",
       "      <td>1961</td>\n",
       "      <td>1</td>\n",
       "      <td>2</td>\n",
       "      <td>0</td>\n",
       "    </tr>\n",
       "    <tr>\n",
       "      <th>368</th>\n",
       "      <td>1961-01-03</td>\n",
       "      <td>0.3</td>\n",
       "      <td>-4.7</td>\n",
       "      <td>5.0</td>\n",
       "      <td>3.0</td>\n",
       "      <td>77.0</td>\n",
       "      <td>2.6</td>\n",
       "      <td>0.0</td>\n",
       "      <td>0.00</td>\n",
       "      <td>0.0</td>\n",
       "      <td>-1.1</td>\n",
       "      <td>9.653806</td>\n",
       "      <td>0.000000</td>\n",
       "      <td>1961</td>\n",
       "      <td>1</td>\n",
       "      <td>3</td>\n",
       "      <td>0</td>\n",
       "    </tr>\n",
       "    <tr>\n",
       "      <th>369</th>\n",
       "      <td>1961-01-04</td>\n",
       "      <td>-4.7</td>\n",
       "      <td>-13.7</td>\n",
       "      <td>9.0</td>\n",
       "      <td>0.0</td>\n",
       "      <td>46.0</td>\n",
       "      <td>2.9</td>\n",
       "      <td>8.4</td>\n",
       "      <td>0.00</td>\n",
       "      <td>86.6</td>\n",
       "      <td>-9.5</td>\n",
       "      <td>9.699769</td>\n",
       "      <td>0.000000</td>\n",
       "      <td>1961</td>\n",
       "      <td>1</td>\n",
       "      <td>4</td>\n",
       "      <td>0</td>\n",
       "    </tr>\n",
       "    <tr>\n",
       "      <th>370</th>\n",
       "      <td>1961-01-05</td>\n",
       "      <td>-6.2</td>\n",
       "      <td>-16.5</td>\n",
       "      <td>10.3</td>\n",
       "      <td>0.0</td>\n",
       "      <td>54.3</td>\n",
       "      <td>0.9</td>\n",
       "      <td>6.2</td>\n",
       "      <td>0.00</td>\n",
       "      <td>63.9</td>\n",
       "      <td>-10.8</td>\n",
       "      <td>9.702660</td>\n",
       "      <td>0.000000</td>\n",
       "      <td>1961</td>\n",
       "      <td>1</td>\n",
       "      <td>5</td>\n",
       "      <td>0</td>\n",
       "    </tr>\n",
       "    <tr>\n",
       "      <th>...</th>\n",
       "      <td>...</td>\n",
       "      <td>...</td>\n",
       "      <td>...</td>\n",
       "      <td>...</td>\n",
       "      <td>...</td>\n",
       "      <td>...</td>\n",
       "      <td>...</td>\n",
       "      <td>...</td>\n",
       "      <td>...</td>\n",
       "      <td>...</td>\n",
       "      <td>...</td>\n",
       "      <td>...</td>\n",
       "      <td>...</td>\n",
       "      <td>...</td>\n",
       "      <td>...</td>\n",
       "      <td>...</td>\n",
       "      <td>...</td>\n",
       "    </tr>\n",
       "    <tr>\n",
       "      <th>23006</th>\n",
       "      <td>2022-12-27</td>\n",
       "      <td>3.3</td>\n",
       "      <td>-7.3</td>\n",
       "      <td>10.6</td>\n",
       "      <td>0.0</td>\n",
       "      <td>69.8</td>\n",
       "      <td>1.8</td>\n",
       "      <td>8.8</td>\n",
       "      <td>10.25</td>\n",
       "      <td>91.7</td>\n",
       "      <td>-2.6</td>\n",
       "      <td>9.596510</td>\n",
       "      <td>1.164773</td>\n",
       "      <td>2022</td>\n",
       "      <td>12</td>\n",
       "      <td>27</td>\n",
       "      <td>0</td>\n",
       "    </tr>\n",
       "    <tr>\n",
       "      <th>23007</th>\n",
       "      <td>2022-12-28</td>\n",
       "      <td>0.1</td>\n",
       "      <td>-6.0</td>\n",
       "      <td>6.1</td>\n",
       "      <td>1.0</td>\n",
       "      <td>58.1</td>\n",
       "      <td>2.5</td>\n",
       "      <td>8.7</td>\n",
       "      <td>10.86</td>\n",
       "      <td>90.6</td>\n",
       "      <td>-3.3</td>\n",
       "      <td>9.602649</td>\n",
       "      <td>1.248276</td>\n",
       "      <td>2022</td>\n",
       "      <td>12</td>\n",
       "      <td>28</td>\n",
       "      <td>0</td>\n",
       "    </tr>\n",
       "    <tr>\n",
       "      <th>23008</th>\n",
       "      <td>2022-12-29</td>\n",
       "      <td>2.1</td>\n",
       "      <td>-7.8</td>\n",
       "      <td>9.9</td>\n",
       "      <td>0.0</td>\n",
       "      <td>56.3</td>\n",
       "      <td>1.7</td>\n",
       "      <td>9.0</td>\n",
       "      <td>10.88</td>\n",
       "      <td>93.8</td>\n",
       "      <td>-2.9</td>\n",
       "      <td>9.594883</td>\n",
       "      <td>1.208889</td>\n",
       "      <td>2022</td>\n",
       "      <td>12</td>\n",
       "      <td>29</td>\n",
       "      <td>0</td>\n",
       "    </tr>\n",
       "    <tr>\n",
       "      <th>23009</th>\n",
       "      <td>2022-12-30</td>\n",
       "      <td>2.3</td>\n",
       "      <td>-4.4</td>\n",
       "      <td>6.7</td>\n",
       "      <td>0.0</td>\n",
       "      <td>65.6</td>\n",
       "      <td>1.9</td>\n",
       "      <td>7.9</td>\n",
       "      <td>10.84</td>\n",
       "      <td>82.3</td>\n",
       "      <td>-1.8</td>\n",
       "      <td>9.599028</td>\n",
       "      <td>1.372152</td>\n",
       "      <td>2022</td>\n",
       "      <td>12</td>\n",
       "      <td>30</td>\n",
       "      <td>0</td>\n",
       "    </tr>\n",
       "    <tr>\n",
       "      <th>23010</th>\n",
       "      <td>2022-12-31</td>\n",
       "      <td>2.1</td>\n",
       "      <td>-5.1</td>\n",
       "      <td>7.2</td>\n",
       "      <td>0.0</td>\n",
       "      <td>65.5</td>\n",
       "      <td>1.4</td>\n",
       "      <td>1.1</td>\n",
       "      <td>4.16</td>\n",
       "      <td>11.5</td>\n",
       "      <td>-1.2</td>\n",
       "      <td>9.565217</td>\n",
       "      <td>3.781818</td>\n",
       "      <td>2022</td>\n",
       "      <td>12</td>\n",
       "      <td>31</td>\n",
       "      <td>0</td>\n",
       "    </tr>\n",
       "  </tbody>\n",
       "</table>\n",
       "<p>22645 rows × 17 columns</p>\n",
       "</div>"
      ],
      "text/plain": [
       "               일시  최고기온  최저기온   일교차  강수량  평균습도  평균풍속  일조합    일사합   일조율  평균기온  \\\n",
       "366    1961-01-01  -4.9 -15.0  10.1  0.0  73.8   0.8  2.7   0.00  28.1  -9.8   \n",
       "367    1961-01-02   0.2 -12.3  12.5  0.0  72.3   1.4  4.9   0.00  51.0  -6.2   \n",
       "368    1961-01-03   0.3  -4.7   5.0  3.0  77.0   2.6  0.0   0.00   0.0  -1.1   \n",
       "369    1961-01-04  -4.7 -13.7   9.0  0.0  46.0   2.9  8.4   0.00  86.6  -9.5   \n",
       "370    1961-01-05  -6.2 -16.5  10.3  0.0  54.3   0.9  6.2   0.00  63.9 -10.8   \n",
       "...           ...   ...   ...   ...  ...   ...   ...  ...    ...   ...   ...   \n",
       "23006  2022-12-27   3.3  -7.3  10.6  0.0  69.8   1.8  8.8  10.25  91.7  -2.6   \n",
       "23007  2022-12-28   0.1  -6.0   6.1  1.0  58.1   2.5  8.7  10.86  90.6  -3.3   \n",
       "23008  2022-12-29   2.1  -7.8   9.9  0.0  56.3   1.7  9.0  10.88  93.8  -2.9   \n",
       "23009  2022-12-30   2.3  -4.4   6.7  0.0  65.6   1.9  7.9  10.84  82.3  -1.8   \n",
       "23010  2022-12-31   2.1  -5.1   7.2  0.0  65.5   1.4  1.1   4.16  11.5  -1.2   \n",
       "\n",
       "            가조합     일사_일조     연   월   일  계절  \n",
       "366    9.608541  0.000000  1961   1   1   0  \n",
       "367    9.607843  0.000000  1961   1   2   0  \n",
       "368    9.653806  0.000000  1961   1   3   0  \n",
       "369    9.699769  0.000000  1961   1   4   0  \n",
       "370    9.702660  0.000000  1961   1   5   0  \n",
       "...         ...       ...   ...  ..  ..  ..  \n",
       "23006  9.596510  1.164773  2022  12  27   0  \n",
       "23007  9.602649  1.248276  2022  12  28   0  \n",
       "23008  9.594883  1.208889  2022  12  29   0  \n",
       "23009  9.599028  1.372152  2022  12  30   0  \n",
       "23010  9.565217  3.781818  2022  12  31   0  \n",
       "\n",
       "[22645 rows x 17 columns]"
      ]
     },
     "execution_count": 239,
     "metadata": {},
     "output_type": "execute_result"
    }
   ],
   "source": [
    "train"
   ]
  }
 ],
 "metadata": {
  "kernelspec": {
   "display_name": "Python 3 (ipykernel)",
   "language": "python",
   "name": "python3"
  },
  "language_info": {
   "codemirror_mode": {
    "name": "ipython",
    "version": 3
   },
   "file_extension": ".py",
   "mimetype": "text/x-python",
   "name": "python",
   "nbconvert_exporter": "python",
   "pygments_lexer": "ipython3",
   "version": "3.9.13"
  }
 },
 "nbformat": 4,
 "nbformat_minor": 5
}
